{
 "cells": [
  {
   "cell_type": "markdown",
   "metadata": {},
   "source": [
    "** *This notebook is unfinished and still under development* **\n",
    "\n",
    "# 1D NMR Processing and Display\n",
    "\n",
    "a simplified environment for processing 1D Bruker NMR datasets with `SPIKE`.\n",
    "\n",
    "Run each python cell in sequence by using the ⇥Run button above (or typing *shift* Enter).\n",
    "\n",
    "Cells are meant to be used in order, taking you to the complete analysis, but you can go back at any time.\n",
    "\n",
    "The SPIKE code used for processing is visible in the cells, and can be used as a minimal tutorial.\n",
    "\n",
    "***Remark*** *to use this program, you should have installed the following packages:*\n",
    "\n",
    "- *a complete scientific python environment* ( *tested with python 3.6 - [anaconda](https://www.anaconda.com/) \n",
    " but it should also work in python 2.7*)\n",
    "- [`spike`](https://www.bitbucket.org/delsuc/spike) ( *version 0.99.9 minimum* )\n",
    "- [`ipywidgets`](https://ipywidgets.readthedocs.io/en/latest/)  ( *tested with version 7.1* )\n",
    "- [`ipyml`](https://github.com/matplotlib/jupyter-matplotlib)  ( *adds interactivity in the notebook* )\n",
    "\n",
    "## Initialization\n",
    "the following cell should be run only once, at the beginning of the processing"
   ]
  },
  {
   "cell_type": "code",
   "execution_count": 1,
   "metadata": {
    "ExecuteTime": {
     "end_time": "2019-10-07T08:28:12.397506Z",
     "start_time": "2019-10-07T08:28:10.444094Z"
    }
   },
   "outputs": [
    {
     "data": {
      "text/markdown": [
       "## STARTING Environment..."
      ],
      "text/plain": [
       "<IPython.core.display.Markdown object>"
      ]
     },
     "metadata": {},
     "output_type": "display_data"
    },
    {
     "name": "stdout",
     "output_type": "stream",
     "text": [
      "\n",
      "    ========================\n",
      "          SPIKE\n",
      "    ========================\n",
      "    Version     : 0.99.13\n",
      "    Date        : 03-10-2019\n",
      "    Revision Id : 432\n",
      "    ========================\n",
      "*** bokeh_display not loaded ***\n",
      "*** wavelet not loaded ***\n",
      "*** zoom3D not loaded ***\n",
      "plugins loaded:\n",
      "Bruker_NMR_FT,  Bucketing,  FTMS_calib,  Fitter,  Integrate,  Linear_prediction,  PALMA,  Peaks,  apmin,  bcorr,  fastclean,  gaussenh,  pg_sane,  rem_ridge,  sane,  sg,  test,  urQRd, \n",
      "\n",
      "spike.plugins.report() for a short description of each plugins\n",
      "spike.plugins.report('module_name') for complete documentation on one plugin\n"
     ]
    },
    {
     "data": {
      "text/markdown": [
       "## ...program is Ready"
      ],
      "text/plain": [
       "<IPython.core.display.Markdown object>"
      ]
     },
     "metadata": {},
     "output_type": "display_data"
    },
    {
     "data": {
      "text/html": [
       "\n",
       "<style>hr {height: 2px; border: 0;border-top: 1px solid #ccc;margin: 1em 0;padding: 0; }</style>\n",
       "<script>\n",
       "code_show=false; \n",
       "function code_toggle() {\n",
       " if (code_show){\n",
       " $('div.input').hide();\n",
       " } else {\n",
       " $('div.input').show();\n",
       " }\n",
       " code_show = !code_show\n",
       "} \n",
       "$( document ).ready(code_toggle);\n",
       "</script>\n",
       "<form action=\"javascript:code_toggle()\">\n",
       "<input type=\"submit\" style=\"border:1px solid black; background-color:#DDD\" value=\"hide/show the python code.\">\n",
       "<i>usefull to show/print a clean screen when processing is finished</i>\n",
       "</form>"
      ],
      "text/plain": [
       "<IPython.core.display.HTML object>"
      ]
     },
     "metadata": {},
     "output_type": "display_data"
    }
   ],
   "source": [
    "# load all python and interactive tools\n",
    "from __future__ import print_function, division\n",
    "from IPython.display import display, HTML, Markdown, Image\n",
    "display(Markdown('## STARTING Environment...'))\n",
    "%matplotlib widget\n",
    "import os.path as op\n",
    "import spike\n",
    "from spike.File.BrukerNMR import Import_1D\n",
    "from spike.Interactive import INTER as I\n",
    "from spike.Interactive.ipyfilechooser import FileChooser\n",
    "display(Markdown('## ...program is Ready'))\n",
    "from importlib import reload  # the two following lines are debugging help\n",
    "reload(I)                   # and can be removed safely when in production\n",
    "I.hidecode()"
   ]
  },
  {
   "cell_type": "markdown",
   "metadata": {},
   "source": [
    "### Choose the file\n",
    "The `FileChooser()` tool creates a dialog box which allows to choose a file on your disk\n",
    "\n",
    "- use the `Select` button\n",
    "- modify the ( *optional* ) `path` argument, to start the exploration on a given location\n",
    "- After the selection, the selected filename is found in `FC.selected`"
   ]
  },
  {
   "cell_type": "code",
   "execution_count": 2,
   "metadata": {
    "ExecuteTime": {
     "end_time": "2019-10-07T08:28:17.416164Z",
     "start_time": "2019-10-07T08:28:17.334083Z"
    }
   },
   "outputs": [
    {
     "data": {
      "application/vnd.jupyter.widget-view+json": {
       "model_id": "0932d56c67b74d02bb843b18979cdbc4",
       "version_major": 2,
       "version_minor": 0
      },
      "text/plain": [
       "FileChooser(path='/home/mad/Documents/DATA', filename='fid', show_hidden='False')"
      ]
     },
     "metadata": {},
     "output_type": "display_data"
    }
   ],
   "source": [
    "FC = FileChooser(path='/home/mad/Documents/DATA/',filename='fid')\n",
    "display(FC)"
   ]
  },
  {
   "cell_type": "markdown",
   "metadata": {},
   "source": [
    "### Import dataset\n",
    "\n",
    "This is simply done with the `Import_1D()` tool, which returns a `SPIKE` object.\n",
    "\n",
    "We store the dataset into a variable, typing the variable name shows a summary of the dataset. "
   ]
  },
  {
   "cell_type": "code",
   "execution_count": 3,
   "metadata": {
    "ExecuteTime": {
     "end_time": "2019-10-07T08:28:31.717838Z",
     "start_time": "2019-10-07T08:28:31.625416Z"
    }
   },
   "outputs": [
    {
     "name": "stdout",
     "output_type": "stream",
     "text": [
      "Reading file  /home/mad/Documents/DATA/ARTEref/1/fid\n"
     ]
    },
    {
     "data": {
      "application/vnd.jupyter.widget-view+json": {
       "model_id": "6fdcdcdee217414e8ad271811c32963f",
       "version_major": 2,
       "version_minor": 0
      },
      "text/plain": [
       "FigureCanvasNbAgg()"
      ]
     },
     "metadata": {},
     "output_type": "display_data"
    },
    {
     "data": {
      "text/plain": [
       "1D data-set\n",
       "Axis F1 :NMR axis at 700.163291 MHz,  8192 complex pairs,  from -1.338538 ppm (-937.194868 Hz) to 10.683670 ppm  (7480.313549 Hz)\n",
       "data-set is complex"
      ]
     },
     "execution_count": 3,
     "metadata": {},
     "output_type": "execute_result"
    }
   ],
   "source": [
    "print('Reading file ',FC.selected)\n",
    "d1 = Import_1D(FC.selected)\n",
    "d1.filename = FC.selected\n",
    "d1.set_unit('sec').display(title=FC.nmrname+\" fid\")"
   ]
  },
  {
   "cell_type": "markdown",
   "metadata": {},
   "source": [
    "In the current set-up, the figure can be explored *(zoom, shift, resize, etc)* with the jupyter tools displayed  below the dataset.\n",
    "The figure can also be saved as a `png` graphic file.\n",
    "\n",
    "For more interactivity - see below.\n",
    "\n",
    "## Basic Processing\n",
    "We are going to use a basic processing set-up, check the documentation for advanced processing\n",
    "\n",
    "### Fourier Transform"
   ]
  },
  {
   "cell_type": "code",
   "execution_count": 4,
   "metadata": {
    "ExecuteTime": {
     "end_time": "2019-10-07T08:28:34.394192Z",
     "start_time": "2019-10-07T08:28:34.133229Z"
    }
   },
   "outputs": [
    {
     "data": {
      "application/vnd.jupyter.widget-view+json": {
       "model_id": "3fb8984629f34b18b4ae8d32eb63528e",
       "version_major": 2,
       "version_minor": 0
      },
      "text/plain": [
       "FigureCanvasNbAgg()"
      ]
     },
     "metadata": {},
     "output_type": "display_data"
    },
    {
     "data": {
      "text/plain": [
       "1D data-set\n",
       "Axis F1 :NMR axis at 700.163291 MHz,  32768 complex pairs,  from -1.338538 ppm (-937.194868 Hz) to 10.683670 ppm  (7480.313549 Hz)\n",
       "data-set is complex"
      ]
     },
     "execution_count": 4,
     "metadata": {},
     "output_type": "execute_result"
    }
   ],
   "source": [
    "D1 = d1.copy() # copy the imported data-set to another object for processing\n",
    "D1.apod_em(0.3).zf(4).ft_sim().bk_corr().apmin()  # chaining  apodisation - zerofill - FT - Bruker correction - autophase\n",
    "D1.set_unit('ppm').display(title=FC.nmrname)  # chain  set to ppm unit - and display"
   ]
  },
  {
   "cell_type": "markdown",
   "metadata": {},
   "source": [
    "### rephasing\n",
    "If is is required use the interactive phaser\n",
    "\n",
    "Use `scale` and `zoom` to tune the display; then use `P0, P1, pivot` to optimize the phase.\n",
    "\n",
    "Once finished, click on `Apply correction`"
   ]
  },
  {
   "cell_type": "code",
   "execution_count": 8,
   "metadata": {
    "ExecuteTime": {
     "end_time": "2019-10-07T08:30:55.256741Z",
     "start_time": "2019-10-07T08:30:55.131320Z"
    },
    "scrolled": false
   },
   "outputs": [
    {
     "data": {
      "application/vnd.jupyter.widget-view+json": {
       "model_id": "",
       "version_major": 2,
       "version_minor": 0
      },
      "text/plain": [
       "VBox(children=(HBox(children=(Button(button_style='warning', description='Cancel', style=ButtonStyle()), Float…"
      ]
     },
     "metadata": {},
     "output_type": "display_data"
    },
    {
     "data": {
      "application/vnd.jupyter.widget-view+json": {
       "model_id": "a05958afeec249f2b7662f48e0e5bed7",
       "version_major": 2,
       "version_minor": 0
      },
      "text/plain": [
       "FigureCanvasNbAgg()"
      ]
     },
     "metadata": {},
     "output_type": "display_data"
    },
    {
     "name": "stdout",
     "output_type": "stream",
     "text": [
      "no applied phase\n"
     ]
    }
   ],
   "source": [
    "reload(I)\n",
    "I.Phaser1D(D1, reverse_scroll=True);"
   ]
  },
  {
   "cell_type": "markdown",
   "metadata": {},
   "source": [
    "### Baseline correction\n",
    "A simple interactive baseline correction tool"
   ]
  },
  {
   "cell_type": "code",
   "execution_count": 15,
   "metadata": {
    "ExecuteTime": {
     "end_time": "2019-10-07T10:34:04.874647Z",
     "start_time": "2019-10-07T10:34:04.740753Z"
    }
   },
   "outputs": [
    {
     "data": {
      "application/vnd.jupyter.widget-view+json": {
       "model_id": "",
       "version_major": 2,
       "version_minor": 0
      },
      "text/plain": [
       "VBox(children=(HBox(children=(Button(button_style='success', description='Apply', layout=Layout(width='80px'),…"
      ]
     },
     "metadata": {},
     "output_type": "display_data"
    },
    {
     "name": "stdout",
     "output_type": "stream",
     "text": [
      "Applied correction:\n",
      " [-0.5977667585095559, 0.5124722043904673, 2.203880538484686, 3.522151719482632, 4.983146944290263, 7.645372296174787, 8.48410536596641, 9.38814661004627]\n"
     ]
    },
    {
     "data": {
      "application/vnd.jupyter.widget-view+json": {
       "model_id": "023021681ce74c6e9c471775ec39948d",
       "version_major": 2,
       "version_minor": 0
      },
      "text/plain": [
       "FigureCanvasNbAgg()"
      ]
     },
     "metadata": {},
     "output_type": "display_data"
    }
   ],
   "source": [
    "reload(I)\n",
    "I.baseline1D(D1, reverse_scroll=True);"
   ]
  },
  {
   "cell_type": "markdown",
   "metadata": {},
   "source": [
    "## Peak-Picker\n",
    "- moving the threshold determines the minimum peak intensity\n",
    "- peaks are searched only in the selected zoom window"
   ]
  },
  {
   "cell_type": "code",
   "execution_count": 29,
   "metadata": {
    "ExecuteTime": {
     "end_time": "2019-10-07T12:00:43.115206Z",
     "start_time": "2019-10-07T12:00:42.896372Z"
    },
    "scrolled": false
   },
   "outputs": [
    {
     "name": "stderr",
     "output_type": "stream",
     "text": [
      "/home/mad/Documents/spike/Notebooks/spike/Interactive/INTER.py:215: RuntimeWarning: More than 20 figures have been opened. Figures created through the pyplot interface (`matplotlib.pyplot.figure`) are retained until explicitly closed and may consume too much memory. (To control this warning, see the rcParam `figure.max_open_warning`).\n",
      "  fi,ax = plt.subplots(figsize=figsize)\n"
     ]
    },
    {
     "data": {
      "application/vnd.jupyter.widget-view+json": {
       "model_id": "",
       "version_major": 2,
       "version_minor": 0
      },
      "text/plain": [
       "VBox(children=(HBox(children=(Button(button_style='success', description='Ok', style=ButtonStyle()), Button(bu…"
      ]
     },
     "metadata": {},
     "output_type": "display_data"
    },
    {
     "data": {
      "application/vnd.jupyter.widget-view+json": {
       "model_id": "5290415c7abc4395842fdd128becb40e",
       "version_major": 2,
       "version_minor": 0
      },
      "text/plain": [
       "Output(layout=Layout(border='1px solid red'))"
      ]
     },
     "metadata": {},
     "output_type": "display_data"
    },
    {
     "name": "stderr",
     "output_type": "stream",
     "text": [
      "/home/mad/Documents/spike/Notebooks/spike/NPKData.py:1463: RuntimeWarning: More than 20 figures have been opened. Figures created through the pyplot interface (`matplotlib.pyplot.figure`) are retained until explicitly closed and may consume too much memory. (To control this warning, see the rcParam `figure.max_open_warning`).\n",
      "  plot.figure()\n"
     ]
    },
    {
     "data": {
      "application/vnd.jupyter.widget-view+json": {
       "model_id": "3fe8246954ef4d629b189f9c9c927954",
       "version_major": 2,
       "version_minor": 0
      },
      "text/plain": [
       "FigureCanvasNbAgg()"
      ]
     },
     "metadata": {},
     "output_type": "display_data"
    }
   ],
   "source": [
    "reload(I)\n",
    "ph = I.NMRPeaker1D(D1, reverse_scroll=True);"
   ]
  },
  {
   "cell_type": "markdown",
   "metadata": {},
   "source": [
    "## Integrate\n",
    "Integration zones are computed from the peaks detected with the Peak-Picker above.\n"
   ]
  },
  {
   "cell_type": "code",
   "execution_count": 30,
   "metadata": {
    "ExecuteTime": {
     "end_time": "2019-10-07T12:00:56.896041Z",
     "start_time": "2019-10-07T12:00:56.524239Z"
    }
   },
   "outputs": [
    {
     "data": {
      "application/vnd.jupyter.widget-view+json": {
       "model_id": "",
       "version_major": 2,
       "version_minor": 0
      },
      "text/plain": [
       "VBox(children=(HBox(children=(Button(button_style='success', description='Ok', style=ButtonStyle()), Button(bu…"
      ]
     },
     "metadata": {},
     "output_type": "display_data"
    },
    {
     "name": "stderr",
     "output_type": "stream",
     "text": [
      "/home/mad/Documents/spike/Notebooks/spike/Interactive/INTER.py:912: RuntimeWarning: More than 20 figures have been opened. Figures created through the pyplot interface (`matplotlib.pyplot.figure`) are retained until explicitly closed and may consume too much memory. (To control this warning, see the rcParam `figure.max_open_warning`).\n",
      "  self.fig, self.ax = plt.subplots()\n"
     ]
    },
    {
     "data": {
      "application/vnd.jupyter.widget-view+json": {
       "model_id": "9b7fda5027c2465e9cf5ba9af85a3c24",
       "version_major": 2,
       "version_minor": 0
      },
      "text/plain": [
       "FigureCanvasNbAgg()"
      ]
     },
     "metadata": {},
     "output_type": "display_data"
    },
    {
     "data": {
      "application/vnd.jupyter.widget-view+json": {
       "model_id": "d63293e99dd14141aa2efdbbd9545f54",
       "version_major": 2,
       "version_minor": 0
      },
      "text/plain": [
       "Output(layout=Layout(border='1px solid red'))"
      ]
     },
     "metadata": {},
     "output_type": "display_data"
    }
   ],
   "source": [
    "reload(I)\n",
    "I.NMRIntegrate(D1);"
   ]
  },
  {
   "cell_type": "markdown",
   "metadata": {},
   "source": [
    "## Interactive composite display\n",
    "Convenient to set-up your own figure"
   ]
  },
  {
   "cell_type": "code",
   "execution_count": 41,
   "metadata": {
    "ExecuteTime": {
     "end_time": "2019-10-07T12:08:46.016746Z",
     "start_time": "2019-10-07T12:08:45.841071Z"
    }
   },
   "outputs": [
    {
     "name": "stderr",
     "output_type": "stream",
     "text": [
      "/home/mad/Documents/spike/Notebooks/spike/Interactive/INTER.py:215: RuntimeWarning: More than 20 figures have been opened. Figures created through the pyplot interface (`matplotlib.pyplot.figure`) are retained until explicitly closed and may consume too much memory. (To control this warning, see the rcParam `figure.max_open_warning`).\n",
      "  fi,ax = plt.subplots(figsize=figsize)\n"
     ]
    },
    {
     "data": {
      "application/vnd.jupyter.widget-view+json": {
       "model_id": "",
       "version_major": 2,
       "version_minor": 0
      },
      "text/plain": [
       "Show1Dplus(children=(VBox(children=(HTML(value='&nbsp;', layout=Layout(width='80px')), Button(button_style='su…"
      ]
     },
     "metadata": {},
     "output_type": "display_data"
    },
    {
     "data": {
      "application/vnd.jupyter.widget-view+json": {
       "model_id": "",
       "version_major": 2,
       "version_minor": 0
      },
      "text/plain": [
       "VBox(children=(HBox(children=(Label(value='Integral scale:'), FloatSlider(value=0.5, layout=Layout(width='20%'…"
      ]
     },
     "metadata": {},
     "output_type": "display_data"
    },
    {
     "data": {
      "application/vnd.jupyter.widget-view+json": {
       "model_id": "19fa0a46d5b34975b97691b7505bd473",
       "version_major": 2,
       "version_minor": 0
      },
      "text/plain": [
       "FigureCanvasNbAgg()"
      ]
     },
     "metadata": {},
     "output_type": "display_data"
    }
   ],
   "source": [
    "reload(I)\n",
    "s = I.Show1Dplus(D1, title=FC.nmrname, reverse_scroll=True);"
   ]
  },
  {
   "cell_type": "markdown",
   "metadata": {},
   "source": [
    "## Save the data-set\n",
    "either as stand alone native SPIKE files, (there are other formats)"
   ]
  },
  {
   "cell_type": "code",
   "execution_count": null,
   "metadata": {},
   "outputs": [],
   "source": [
    "D1.save('example1.gs1')"
   ]
  },
  {
   "cell_type": "markdown",
   "metadata": {},
   "source": [
    "or as a `csv` text file, - in which case, it is probably better to remove the imaginary part, not useful there.\n",
    "\n",
    "The file contains some basic informations in addition to the spectral data"
   ]
  },
  {
   "cell_type": "code",
   "execution_count": null,
   "metadata": {},
   "outputs": [],
   "source": [
    "D1.copy().real().save_csv('example.csv')"
   ]
  },
  {
   "cell_type": "markdown",
   "metadata": {},
   "source": [
    "### Save the peak list to a csv file"
   ]
  },
  {
   "cell_type": "code",
   "execution_count": null,
   "metadata": {
    "ExecuteTime": {
     "end_time": "2019-06-21T13:14:27.575626Z",
     "start_time": "2019-06-21T13:14:27.501404Z"
    }
   },
   "outputs": [],
   "source": [
    "D1.pk2pandas().to_csv('peaklist.csv')"
   ]
  },
  {
   "cell_type": "markdown",
   "metadata": {},
   "source": [
    "### Save the integrals to a csv file"
   ]
  },
  {
   "cell_type": "code",
   "execution_count": null,
   "metadata": {
    "ExecuteTime": {
     "end_time": "2019-06-21T13:14:29.454675Z",
     "start_time": "2019-06-21T13:14:29.447579Z"
    }
   },
   "outputs": [],
   "source": [
    "D1.integrals.to_pandas().to_csv('integrals.csv')"
   ]
  },
  {
   "cell_type": "markdown",
   "metadata": {},
   "source": [
    "## Export a buckelist"
   ]
  },
  {
   "cell_type": "code",
   "execution_count": null,
   "metadata": {},
   "outputs": [],
   "source": [
    "# adapt the parameters below\n",
    "Zoom = (0.5,8)                    # zone to bucket       - (start, end) in ppm\n",
    "BucketSize = 0.04                 # width of the buckets - in ppm\n",
    "Output = 'screen'                 # 'screen'  or  'file'  determines output\n",
    "BucketFileName = 'bucket.csv'     #  the filename if Output (above) is 'file'  - don't forget the .csv extension."
   ]
  },
  {
   "cell_type": "code",
   "execution_count": null,
   "metadata": {},
   "outputs": [],
   "source": [
    "# the following cell executes the bucketing\n",
    "if Output == 'file':\n",
    "    with open(BucketFileName,'w') as F:\n",
    "        D1.bucket1d(zoom=Zoom, bsize=BucketSize, pp=True, file=F)\n",
    "    print('buckets written to %s\\n'%op.realpath(BucketFileName))\n",
    "else:\n",
    "    D1.bucket1d(zoom=Zoom, bsize=BucketSize, pp=True);"
   ]
  },
  {
   "cell_type": "markdown",
   "metadata": {},
   "source": [
    "*Tools in this page is under intensive development - things are going to change rapidly.*"
   ]
  }
 ],
 "metadata": {
  "kernelspec": {
   "display_name": "Python 3",
   "language": "python",
   "name": "python3"
  },
  "language_info": {
   "codemirror_mode": {
    "name": "ipython",
    "version": 3
   },
   "file_extension": ".py",
   "mimetype": "text/x-python",
   "name": "python",
   "nbconvert_exporter": "python",
   "pygments_lexer": "ipython3",
   "version": "3.7.4"
  },
  "toc": {
   "base_numbering": 1,
   "nav_menu": {},
   "number_sections": true,
   "sideBar": true,
   "skip_h1_title": true,
   "title_cell": "Table of Contents",
   "title_sidebar": "Contents",
   "toc_cell": true,
   "toc_position": {},
   "toc_section_display": true,
   "toc_window_display": false
  },
  "varInspector": {
   "cols": {
    "lenName": 16,
    "lenType": 16,
    "lenVar": 40
   },
   "kernels_config": {
    "python": {
     "delete_cmd_postfix": "",
     "delete_cmd_prefix": "del ",
     "library": "var_list.py",
     "varRefreshCmd": "print(var_dic_list())"
    },
    "r": {
     "delete_cmd_postfix": ") ",
     "delete_cmd_prefix": "rm(",
     "library": "var_list.r",
     "varRefreshCmd": "cat(var_dic_list()) "
    }
   },
   "types_to_exclude": [
    "module",
    "function",
    "builtin_function_or_method",
    "instance",
    "_Feature"
   ],
   "window_display": false
  }
 },
 "nbformat": 4,
 "nbformat_minor": 2
}
