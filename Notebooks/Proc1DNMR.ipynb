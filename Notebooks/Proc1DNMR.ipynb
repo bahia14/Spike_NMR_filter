{
 "cells": [
  {
   "cell_type": "markdown",
   "metadata": {},
   "source": [
    "** *This notebook is unfinished and still under development (but not too bad though ;-)* **\n",
    "\n",
    "# 1D NMR Processing and Display\n",
    "\n",
    "a simplified environment for processing 1D Bruker NMR datasets with `SPIKE`.\n",
    "\n",
    "Run each python cell in sequence by using the ⇥Run button above (or typing *shift* Enter).\n",
    "\n",
    "Cells are meant to be used in order, taking you to the complete analysis, but you can go back at any time.\n",
    "\n",
    "The SPIKE code used for processing is visible in the cells, and can be used as a minimal tutorial.\n",
    "\n",
    "`reverse_scroll` inverse the direction of the mouse wheel, whether it is `True` or `False`\n",
    "\n",
    "***Remark*** *to use this program, you should have installed the following packages:*\n",
    "\n",
    "- *a complete scientific python environment* ( *tested with python 3.6 - [anaconda](https://www.anaconda.com/) does probably not work in python 2.7 *)\n",
    "- [`spike`](https://www.bitbucket.org/delsuc/spike) ( *version 0.99.9 minimum* )\n",
    "- [`ipywidgets`](https://ipywidgets.readthedocs.io/en/latest/)  ( *tested with version 7.1* )\n",
    "- [`ipyml`](https://github.com/matplotlib/jupyter-matplotlib)  ( *adds interactivity in the notebook* )\n",
    "\n",
    "## Initialization\n",
    "the following cell should be run only once, at the beginning of the processing"
   ]
  },
  {
   "cell_type": "code",
   "execution_count": 1,
   "metadata": {
    "ExecuteTime": {
     "end_time": "2020-01-14T22:19:55.502465Z",
     "start_time": "2020-01-14T22:19:52.937270Z"
    }
   },
   "outputs": [
    {
     "data": {
      "text/markdown": [
       "## STARTING Environment..."
      ],
      "text/plain": [
       "<IPython.core.display.Markdown object>"
      ]
     },
     "metadata": {},
     "output_type": "display_data"
    },
    {
     "name": "stdout",
     "output_type": "stream",
     "text": [
      "\n",
      "    ========================\n",
      "          SPIKE\n",
      "    ========================\n",
      "    Version     : 0.99.14\n",
      "    Date        : 14-01-2020\n",
      "    Revision Id : 455\n",
      "    ========================\n",
      "*** bokeh_display not loaded ***\n",
      "*** wavelet not loaded ***\n",
      "*** zoom3D not loaded ***\n",
      "plugins loaded:\n",
      "Bruker_NMR_FT,  Bucketing,  FTMS_calib,  Fitter,  Integrate,  Linear_prediction,  PALMA,  Peaks,  apmin,  bcorr,  fastclean,  gaussenh,  pg_sane,  rem_ridge,  sane,  sg,  test,  urQRd, \n",
      "\n",
      "spike.plugins.report() for a short description of each plugins\n",
      "spike.plugins.report('module_name') for complete documentation on one plugin\n"
     ]
    },
    {
     "data": {
      "text/markdown": [
       "## ...program is Ready"
      ],
      "text/plain": [
       "<IPython.core.display.Markdown object>"
      ]
     },
     "metadata": {},
     "output_type": "display_data"
    },
    {
     "data": {
      "text/html": [
       "\n",
       "<style>hr {height: 2px; border: 0;border-top: 1px solid #ccc;margin: 1em 0;padding: 0; }</style>\n",
       "<script>\n",
       "code_show=false; \n",
       "function code_toggle() { if (code_show){ $('div.input').hide(); } else { $('div.input').show(); } code_show = !code_show } \n",
       "$( document ).ready(code_toggle);\n",
       "</script>\n",
       "<form action=\"javascript:code_toggle()\">\n",
       "<input type=\"submit\" style=\"border:1px solid black; background-color:#DDD\" value=\"hide/show the python code.\">\n",
       "<i>usefull to show/print a clean screen when processing is finished</i>\n",
       "</form>"
      ],
      "text/plain": [
       "<IPython.core.display.HTML object>"
      ]
     },
     "metadata": {},
     "output_type": "display_data"
    }
   ],
   "source": [
    "# load all python and interactive tools\n",
    "from __future__ import print_function, division\n",
    "from IPython.display import display, HTML, Markdown, Image\n",
    "display(Markdown('## STARTING Environment...'))\n",
    "%matplotlib widget\n",
    "import os.path as op\n",
    "import spike\n",
    "from spike.File.BrukerNMR import Import_1D\n",
    "from spike.Interactive import INTER as I\n",
    "from spike.Interactive.ipyfilechooser import FileChooser\n",
    "display(Markdown('## ...program is Ready'))\n",
    "from importlib import reload  # the two following lines are debugging help\n",
    "reload(I)                   # and can be removed safely when in production\n",
    "I.hidecode()"
   ]
  },
  {
   "cell_type": "markdown",
   "metadata": {},
   "source": [
    "### Choose the file\n",
    "The `FileChooser()` tool creates a dialog box which allows to choose a file on your disk\n",
    "\n",
    "- use the `Select` button\n",
    "- modify the ( *optional* ) `path` argument, to start the exploration on a given location\n",
    "- After the selection, the selected filename is found in `FC.selected`"
   ]
  },
  {
   "cell_type": "code",
   "execution_count": 2,
   "metadata": {
    "ExecuteTime": {
     "end_time": "2020-01-14T22:19:59.477791Z",
     "start_time": "2020-01-14T22:19:59.382633Z"
    }
   },
   "outputs": [
    {
     "data": {
      "application/vnd.jupyter.widget-view+json": {
       "model_id": "d01904c4eb8546ee893e3f0cf6d84a1d",
       "version_major": 2,
       "version_minor": 0
      },
      "text/plain": [
       "FileChooser(path='/DATA', filename='fid', show_hidden='False')"
      ]
     },
     "metadata": {},
     "output_type": "display_data"
    }
   ],
   "source": [
    "FC = FileChooser(path='/DATA/',filename='fid')\n",
    "display(FC)"
   ]
  },
  {
   "cell_type": "markdown",
   "metadata": {},
   "source": [
    "### Import dataset\n",
    "\n",
    "This is simply done with the `Import_1D()` tool, which returns a `SPIKE` object.\n",
    "\n",
    "We store the dataset into a variable, typing the variable name shows a summary of the dataset. "
   ]
  },
  {
   "cell_type": "code",
   "execution_count": 3,
   "metadata": {
    "ExecuteTime": {
     "end_time": "2020-01-14T22:20:09.937953Z",
     "start_time": "2020-01-14T22:20:09.845309Z"
    }
   },
   "outputs": [
    {
     "name": "stdout",
     "output_type": "stream",
     "text": [
      "Reading file  /DATA/ARTEref/1/fid\n"
     ]
    },
    {
     "data": {
      "application/vnd.jupyter.widget-view+json": {
       "model_id": "cc14d4cbabf445aa8cff91379bfce00b",
       "version_major": 2,
       "version_minor": 0
      },
      "text/plain": [
       "FigureCanvasNbAgg()"
      ]
     },
     "metadata": {},
     "output_type": "display_data"
    },
    {
     "data": {
      "text/plain": [
       "1D data-set\n",
       "Axis F1 :NMR axis at 700.163291 MHz,  8192 complex pairs,  from -1.338538 ppm (-937.194868 Hz) to 10.683670 ppm  (7480.313549 Hz)\n",
       "data-set is complex"
      ]
     },
     "execution_count": 3,
     "metadata": {},
     "output_type": "execute_result"
    }
   ],
   "source": [
    "print('Reading file ',FC.selected)\n",
    "d1 = Import_1D(FC.selected)\n",
    "d1.filename = FC.selected\n",
    "d1.set_unit('sec').display(title=FC.nmrname+\" fid\")"
   ]
  },
  {
   "cell_type": "markdown",
   "metadata": {},
   "source": [
    "In the current set-up, the figure can be explored *(zoom, shift, resize, etc)* with the jupyter tools displayed  below the dataset.\n",
    "The figure can also be saved as a `png` graphic file.\n",
    "\n",
    "For more interactivity - see below.\n",
    "\n",
    "## Basic Processing\n",
    "We are going to use a basic processing set-up, check the documentation for advanced processing\n",
    "\n",
    "### Fourier Transform"
   ]
  },
  {
   "cell_type": "code",
   "execution_count": 4,
   "metadata": {
    "ExecuteTime": {
     "end_time": "2020-01-14T22:20:24.257104Z",
     "start_time": "2020-01-14T22:20:23.989024Z"
    }
   },
   "outputs": [
    {
     "data": {
      "application/vnd.jupyter.widget-view+json": {
       "model_id": "46c5e7140ab342fba8bac116609e3b65",
       "version_major": 2,
       "version_minor": 0
      },
      "text/plain": [
       "FigureCanvasNbAgg()"
      ]
     },
     "metadata": {},
     "output_type": "display_data"
    },
    {
     "data": {
      "text/plain": [
       "1D data-set\n",
       "Axis F1 :NMR axis at 700.163291 MHz,  32768 complex pairs,  from -1.338538 ppm (-937.194868 Hz) to 10.683670 ppm  (7480.313549 Hz)\n",
       "data-set is complex"
      ]
     },
     "execution_count": 4,
     "metadata": {},
     "output_type": "execute_result"
    }
   ],
   "source": [
    "D1 = d1.copy() # copy the imported data-set to another object for processing\n",
    "D1.apod_em(0.3).zf(4).ft_sim().bk_corr().apmin()  # chaining  apodisation - zerofill - FT - Bruker correction - autophase\n",
    "D1.set_unit('ppm').display(title=FC.nmrname)  # chain  set to ppm unit - and display"
   ]
  },
  {
   "cell_type": "markdown",
   "metadata": {},
   "source": [
    "<hr/>\n",
    "\n",
    "**Following steps are optional**\n",
    "\n",
    "### rephasing\n",
    "If is is required use the interactive phaser\n",
    "\n",
    "Use `scale` (or mouse wheel) and the zoom box to tune the display; then use `P0, P1, pivot` to optimize the phase.\n",
    "\n",
    "`pivot` is where the $1^{st}$ order correction is not acting - and can be moved with the slider or by clicking on the spectrum\n",
    "\n",
    "Once finished, click on `Done`"
   ]
  },
  {
   "cell_type": "code",
   "execution_count": 5,
   "metadata": {
    "ExecuteTime": {
     "end_time": "2019-12-11T12:41:46.243793Z",
     "start_time": "2019-12-11T12:41:46.114848Z"
    },
    "scrolled": false
   },
   "outputs": [
    {
     "data": {
      "application/vnd.jupyter.widget-view+json": {
       "model_id": "",
       "version_major": 2,
       "version_minor": 0
      },
      "text/plain": [
       "Phaser1D(children=(VBox(children=(HBox(children=(Button(button_style='success', description='Done', style=Butt…"
      ]
     },
     "metadata": {},
     "output_type": "display_data"
    },
    {
     "name": "stdout",
     "output_type": "stream",
     "text": [
      "no applied phase\n"
     ]
    }
   ],
   "source": [
    "reload(I)\n",
    "I.Phaser1D(D1, reverse_scroll=True);"
   ]
  },
  {
   "cell_type": "markdown",
   "metadata": {},
   "source": [
    "### Baseline correction\n",
    "A simple interactive baseline correction tool\n",
    "\n",
    "Choose positions on the baseline of the spectrum with the `select` slider or  by clicking on the baseline.\n",
    "`Add` a control point and see its effect either on the spectrum, or the computed baseline.\n",
    "\n",
    "You can also `Rem`ove the control point closest to the selector.\n",
    "You can also try the `Auto` button for a set of selector points, a set you can optimize by adding and removing points."
   ]
  },
  {
   "cell_type": "code",
   "execution_count": 5,
   "metadata": {
    "ExecuteTime": {
     "end_time": "2020-01-14T22:24:22.124093Z",
     "start_time": "2020-01-14T22:24:21.966335Z"
    },
    "scrolled": false
   },
   "outputs": [
    {
     "data": {
      "application/vnd.jupyter.widget-view+json": {
       "model_id": "",
       "version_major": 2,
       "version_minor": 0
      },
      "text/plain": [
       "VBox(children=(HBox(children=(Button(button_style='success', description='Done', layout=Layout(width='80px'), …"
      ]
     },
     "metadata": {},
     "output_type": "display_data"
    },
    {
     "name": "stdout",
     "output_type": "stream",
     "text": [
      "Applied correction:\n",
      " [-0.9261421292284986, -0.2624853225491977, 0.46660339440929705, 2.7314321747484565, 3.0793035938314985, 3.516648221649353, 5.043685420456325, 6.704274166684185, 8.14655749885867, 9.313665939369237]\n"
     ]
    },
    {
     "data": {
      "image/png": "[encoded data removed]",
      "text/plain": [
       "<Figure size 1395.35x697.674 with 1 Axes>"
      ]
     },
     "metadata": {},
     "output_type": "display_data"
    }
   ],
   "source": [
    "reload(I)\n",
    "I.baseline1D(D1, reverse_scroll=True);"
   ]
  },
  {
   "cell_type": "markdown",
   "metadata": {},
   "source": [
    "## Peak-Picker\n",
    "- first detect peaks (<span style=color:red>in red</span>) in the zoom window by moving the `threshold`\n",
    "- `Add` the detected peaks to the permanent peak list (<span style=color:blue>in blue</span>)\n",
    "- recalibrate the spectrum in the `calibration` tab by clicking on a peak and setting the correct ppm value\n",
    "- get the peak-list in the `Peak Table` tab"
   ]
  },
  {
   "cell_type": "code",
   "execution_count": 6,
   "metadata": {
    "ExecuteTime": {
     "end_time": "2019-12-11T12:42:06.243282Z",
     "start_time": "2019-12-11T12:42:05.649415Z"
    },
    "scrolled": false
   },
   "outputs": [
    {
     "data": {
      "application/vnd.jupyter.widget-view+json": {
       "model_id": "",
       "version_major": 2,
       "version_minor": 0
      },
      "text/plain": [
       "NMRPeaker1D(children=(VBox(children=(HBox(children=(Button(button_style='success', description='Done', layout=…"
      ]
     },
     "metadata": {},
     "output_type": "display_data"
    },
    {
     "data": {
      "application/vnd.jupyter.widget-view+json": {
       "model_id": "9bf11891340d4687a4a67e9c7c0a998d",
       "version_major": 2,
       "version_minor": 0
      },
      "text/plain": [
       "Tab(children=(FigureCanvasNbAgg(), Output(layout=Layout(border='1px solid red'), outputs=({'output_type': 'dis…"
      ]
     },
     "metadata": {},
     "output_type": "display_data"
    }
   ],
   "source": [
    "reload(I)\n",
    "ph = I.NMRPeaker1D(D1, reverse_scroll=True);"
   ]
  },
  {
   "cell_type": "markdown",
   "metadata": {},
   "source": [
    "## Integrate\n",
    "Integration zones are computed from the peaks detected with the Peak-Picker above **required**\n"
   ]
  },
  {
   "cell_type": "code",
   "execution_count": 6,
   "metadata": {
    "ExecuteTime": {
     "end_time": "2020-01-14T22:25:15.671800Z",
     "start_time": "2020-01-14T22:25:15.418226Z"
    },
    "scrolled": false
   },
   "outputs": [
    {
     "data": {
      "application/vnd.jupyter.widget-view+json": {
       "model_id": "",
       "version_major": 2,
       "version_minor": 0
      },
      "text/plain": [
       "NMRIntegrate(children=(VBox(children=(HBox(children=(Button(button_style='success', description='Done', layout…"
      ]
     },
     "metadata": {},
     "output_type": "display_data"
    },
    {
     "data": {
      "image/png": "[encoded data removed]",
      "text/plain": [
       "<Figure size 1395.35x697.674 with 1 Axes>"
      ]
     },
     "metadata": {},
     "output_type": "display_data"
    },
    {
     "data": {
      "application/vnd.jupyter.widget-view+json": {
       "model_id": "16ee8e5f88f44b6cab5677f8319a22c5",
       "version_major": 2,
       "version_minor": 0
      },
      "text/plain": [
       "Output(layout=Layout(border='1px solid red'), outputs=({'output_type': 'display_data', 'data': {'text/plain': …"
      ]
     },
     "metadata": {},
     "output_type": "display_data"
    }
   ],
   "source": [
    "reload(I)\n",
    "D1.real()\n",
    "ii = I.NMRIntegrate(D1, reverse_scroll=True);"
   ]
  },
  {
   "cell_type": "markdown",
   "metadata": {},
   "source": [
    "## Interactive composite display\n",
    "Convenient to set-up your own figure\n",
    "(spectral superposition is not operational)"
   ]
  },
  {
   "cell_type": "code",
   "execution_count": 7,
   "metadata": {
    "ExecuteTime": {
     "end_time": "2020-01-14T22:26:57.191896Z",
     "start_time": "2020-01-14T22:26:56.722245Z"
    },
    "scrolled": false
   },
   "outputs": [
    {
     "data": {
      "application/vnd.jupyter.widget-view+json": {
       "model_id": "22719f3407b3422a845cc91ba3ea129e",
       "version_major": 2,
       "version_minor": 0
      },
      "text/plain": [
       "Show1Dplus(children=(VBox(children=(HTML(value='&nbsp;', layout=Layout(width='80px')), Button(button_style='su…"
      ]
     },
     "metadata": {},
     "output_type": "display_data"
    }
   ],
   "source": [
    "reload(I)\n",
    "s = I.Show1Dplus(D1, title=FC.nmrname, reverse_scroll=True);"
   ]
  },
  {
   "cell_type": "markdown",
   "metadata": {},
   "source": [
    "## Save the data-set\n",
    "either as stand alone native SPIKE files, (there are other formats)"
   ]
  },
  {
   "cell_type": "code",
   "execution_count": null,
   "metadata": {
    "ExecuteTime": {
     "end_time": "2019-10-29T21:19:42.970147Z",
     "start_time": "2019-10-29T21:19:42.952485Z"
    }
   },
   "outputs": [],
   "source": [
    "D1.save('example1.gs1')"
   ]
  },
  {
   "cell_type": "markdown",
   "metadata": {},
   "source": [
    "or as a `csv` text file, - in which case, it is probably better to remove the imaginary part, not useful there.\n",
    "\n",
    "The file contains some basic informations in addition to the spectral data"
   ]
  },
  {
   "cell_type": "code",
   "execution_count": null,
   "metadata": {},
   "outputs": [],
   "source": [
    "D1.copy().real().save_csv('example.csv')"
   ]
  },
  {
   "cell_type": "markdown",
   "metadata": {},
   "source": [
    "### Save the peak list to a csv file"
   ]
  },
  {
   "cell_type": "code",
   "execution_count": null,
   "metadata": {
    "ExecuteTime": {
     "end_time": "2019-06-21T13:14:27.575626Z",
     "start_time": "2019-06-21T13:14:27.501404Z"
    }
   },
   "outputs": [],
   "source": [
    "D1.pk2pandas().to_csv('peaklist.csv')"
   ]
  },
  {
   "cell_type": "markdown",
   "metadata": {},
   "source": [
    "### Save the integrals to a csv file"
   ]
  },
  {
   "cell_type": "code",
   "execution_count": null,
   "metadata": {
    "ExecuteTime": {
     "end_time": "2019-06-21T13:14:29.454675Z",
     "start_time": "2019-06-21T13:14:29.447579Z"
    }
   },
   "outputs": [],
   "source": [
    "D1.integrals.to_pandas().to_csv('integrals.csv')"
   ]
  },
  {
   "cell_type": "markdown",
   "metadata": {},
   "source": [
    "## Export a buckelist"
   ]
  },
  {
   "cell_type": "code",
   "execution_count": 10,
   "metadata": {
    "ExecuteTime": {
     "end_time": "2019-12-11T12:45:38.158329Z",
     "start_time": "2019-12-11T12:45:38.146289Z"
    }
   },
   "outputs": [],
   "source": [
    "# adapt the parameters below\n",
    "Zoom = (0.5,8)                    # zone to bucket       - (start, end) in ppm\n",
    "BucketSize = 0.04                 # width of the buckets - in ppm\n",
    "Output = 'screen'                 # 'screen'  or  'file'  determines output\n",
    "BucketFileName = 'bucket.csv'     #  the filename if Output (above) is 'file'  - don't forget the .csv extension."
   ]
  },
  {
   "cell_type": "code",
   "execution_count": 11,
   "metadata": {
    "ExecuteTime": {
     "end_time": "2019-12-11T12:45:38.744725Z",
     "start_time": "2019-12-11T12:45:38.600929Z"
    }
   },
   "outputs": [
    {
     "name": "stdout",
     "output_type": "stream",
     "text": [
      "PP: 6816 detected\n",
      "# 188 buckets with a mean size of 109.02 data points\n",
      "center, bucket, max, min, std, peaks_nb, bucket_size\n",
      "0.500, 41255526.7, 17852993.8, 37550.2, 3270278.2, 14, 109\n",
      "0.540, 489721.9, 54843.8, 4748.2, 10643.4, 27, 109\n",
      "0.580, 800332.3, 97884.6, 9081.9, 21237.9, 25, 109\n",
      "0.620, 1236674.7, 207368.0, 25004.2, 36376.6, 24, 109\n",
      "0.660, 1924481.9, 719742.9, 25154.4, 133981.4, 25, 109\n",
      "0.700, 71041282.9, 31679293.9, 139668.2, 5941090.9, 8, 109\n",
      "0.740, 2934919.0, 1389830.2, 15639.7, 264104.6, 24, 109\n",
      "0.780, 12689625.0, 1427491.6, 84326.2, 366283.2, 7, 109\n",
      "0.820, 19296123.0, 1276039.8, 275588.1, 239861.6, 9, 109\n",
      "0.860, 6811304.2, 928156.3, 14336.3, 250050.5, 11, 109\n",
      "0.900, 354144.9, 20452.0, 8309.2, 2679.3, 27, 109\n",
      "0.940, 281492.7, 17584.4, 7124.3, 2506.4, 27, 109\n",
      "0.980, 298420.8, 19468.8, 6302.3, 3157.9, 27, 109\n",
      "1.020, 359357.0, 22089.9, 8678.8, 2984.8, 27, 109\n",
      "1.060, 8011756.0, 1616533.5, 13613.6, 482793.2, 19, 109\n",
      "1.100, 13459026.2, 1577885.8, 48536.3, 428658.5, 9, 109\n",
      "1.140, 16455252.0, 1511995.3, 151604.9, 391180.2, 5, 109\n",
      "1.180, 19356106.3, 1741972.3, 54917.0, 410284.4, 8, 109\n",
      "1.220, 510386.3, 52499.1, 12094.5, 7681.9, 23, 109\n",
      "1.260, 384320.3, 22327.3, 11283.6, 2298.6, 25, 109\n",
      "1.300, 3626585.9, 1035044.6, 12065.2, 270215.0, 22, 109\n",
      "1.340, 16847857.2, 1416428.1, 46568.0, 333569.0, 8, 109\n",
      "1.380, 9413968.2, 1306754.6, 19797.0, 430796.9, 13, 109\n",
      "1.420, 10661592.6, 1477956.6, 13633.1, 500058.1, 14, 109\n",
      "1.460, 234279.9, 15476.0, 5237.6, 2745.4, 27, 109\n",
      "1.500, 265895.6, 19457.3, 5627.3, 3258.8, 26, 109\n",
      "1.540, 141584.8, 7640.6, 3871.8, 1013.1, 27, 109\n",
      "1.580, 150023.9, 8587.9, 4035.4, 1184.5, 27, 109\n",
      "1.620, 260290.9, 17648.7, 5251.4, 3197.7, 27, 109\n",
      "1.660, 241201.7, 15296.0, 4232.3, 2761.9, 28, 110\n",
      "1.700, 10063045.6, 1713074.5, 6616.0, 498453.1, 14, 109\n",
      "1.740, 8959807.2, 1676150.7, 8362.5, 464620.7, 13, 109\n",
      "1.780, 203238.6, 14254.6, 3959.7, 2591.7, 27, 109\n",
      "1.820, 212268.3, 15175.3, 4513.9, 2960.9, 26, 109\n",
      "1.860, 134202.9, 6571.2, 4255.1, 620.5, 27, 109\n",
      "1.900, 139291.4, 6535.2, 4649.1, 464.2, 27, 109\n",
      "1.940, 141165.0, 6679.2, 4748.9, 454.9, 27, 109\n",
      "1.980, 136168.2, 6240.1, 4653.4, 367.2, 27, 109\n",
      "2.020, 139572.8, 6314.9, 4816.3, 330.3, 27, 109\n",
      "2.060, 139130.6, 6129.7, 4866.7, 329.4, 27, 109\n",
      "2.100, 141469.1, 6315.8, 4843.2, 340.0, 27, 109\n",
      "2.140, 140690.7, 6384.8, 4915.4, 310.4, 27, 109\n",
      "2.180, 142858.7, 6465.4, 4926.5, 337.6, 27, 109\n",
      "2.220, 146359.9, 6573.8, 5136.9, 347.0, 27, 109\n",
      "2.260, 147836.1, 6616.1, 5298.3, 323.6, 27, 109\n",
      "2.300, 152526.7, 6747.7, 5462.7, 320.2, 27, 109\n",
      "2.340, 152534.1, 6869.6, 5449.6, 320.0, 27, 109\n",
      "2.380, 155760.6, 6854.2, 5533.2, 318.6, 27, 109\n",
      "2.420, 156158.0, 7108.0, 5308.8, 370.9, 27, 109\n",
      "2.460, 189665.9, 11037.2, 5896.3, 1014.2, 26, 109\n",
      "2.500, 225988.0, 26956.8, 5929.4, 4572.9, 25, 109\n",
      "2.540, 336112.9, 22832.9, 8652.9, 3443.7, 16, 109\n",
      "2.580, 292071.7, 19294.8, 8599.4, 2366.2, 27, 109\n",
      "2.620, 31199651.0, 5498211.4, 17212.6, 1406263.1, 13, 109\n",
      "2.660, 4545895.9, 1502338.3, 9737.0, 318265.0, 16, 109\n",
      "2.700, 277912.8, 34150.6, 7123.2, 5726.5, 22, 109\n",
      "2.740, 240915.9, 29416.4, 5244.3, 5265.8, 16, 109\n",
      "2.780, 145782.3, 7863.3, 5440.4, 323.3, 23, 109\n",
      "2.820, 147300.6, 7193.8, 5227.5, 328.7, 21, 109\n",
      "2.860, 140883.1, 6060.8, 5128.0, 183.1, 24, 109\n",
      "2.900, 164638.9, 13173.0, 5265.2, 1400.2, 21, 109\n",
      "2.940, 164532.0, 13285.4, 5563.3, 1374.5, 20, 109\n",
      "2.980, 156614.3, 10951.4, 5264.4, 1113.6, 26, 109\n",
      "3.020, 152790.4, 9797.6, 5297.9, 828.3, 23, 109\n",
      "3.060, 144009.2, 6454.1, 5232.0, 226.3, 27, 109\n",
      "3.100, 144899.8, 6179.0, 5374.1, 171.5, 26, 109\n",
      "3.140, 146360.7, 6408.1, 5200.1, 236.8, 26, 109\n",
      "3.180, 145249.9, 6396.1, 5203.7, 228.6, 26, 109\n",
      "3.220, 147367.7, 6507.9, 5408.4, 217.9, 26, 109\n",
      "3.260, 149226.6, 6424.1, 5380.6, 220.7, 24, 109\n",
      "3.300, 149073.4, 6491.8, 5300.1, 242.9, 27, 109\n",
      "3.340, 149460.0, 6445.2, 5532.6, 203.8, 27, 109\n",
      "3.380, 149203.4, 6508.3, 5489.9, 223.2, 27, 109\n",
      "3.420, 150666.8, 6637.5, 5532.8, 227.0, 27, 109\n",
      "3.460, 150995.3, 6556.6, 5398.0, 220.8, 27, 109\n",
      "3.500, 150613.1, 6483.0, 5543.0, 209.3, 26, 110\n",
      "3.540, 151777.5, 6769.4, 5663.6, 245.8, 27, 109\n",
      "3.580, 152756.7, 6649.1, 5492.6, 248.8, 27, 109\n",
      "3.620, 153901.9, 6674.2, 5702.2, 207.0, 26, 109\n",
      "3.660, 155359.7, 6834.3, 5444.1, 278.8, 27, 109\n",
      "3.700, 153432.8, 6764.6, 5536.9, 274.6, 27, 109\n",
      "3.740, 154560.1, 6938.2, 5651.8, 264.2, 27, 109\n",
      "3.780, 155592.0, 6790.6, 5565.4, 261.1, 27, 109\n",
      "3.820, 157036.0, 6967.8, 5474.4, 340.6, 27, 109\n",
      "3.860, 159028.0, 6906.5, 5745.0, 285.8, 27, 109\n",
      "3.900, 264498.0, 37821.1, 5811.9, 8353.2, 22, 109\n",
      "3.940, 183757.5, 15450.6, 6098.9, 1588.9, 25, 109\n",
      "3.980, 162780.5, 7604.6, 5463.6, 451.4, 26, 109\n",
      "4.020, 162896.3, 7400.1, 5343.8, 475.9, 27, 109\n",
      "4.060, 173100.1, 8363.9, 5685.7, 575.6, 27, 109\n",
      "4.100, 185511.1, 9310.8, 6182.6, 793.5, 27, 109\n",
      "4.140, 232142.6, 14341.2, 6778.1, 1741.1, 27, 109\n",
      "4.180, 28823047.8, 11924806.5, 9014.6, 2581505.3, 16, 109\n",
      "4.220, 1002040.2, 163874.5, 9701.8, 36362.9, 26, 109\n",
      "4.260, 203545.4, 12315.9, 6062.3, 1459.2, 27, 109\n",
      "4.300, 160282.0, 7794.4, 5384.5, 567.9, 27, 109\n",
      "4.340, 154309.7, 7103.7, 5287.1, 405.9, 27, 109\n",
      "4.380, 154089.4, 7050.9, 5349.4, 352.1, 27, 109\n",
      "4.420, 148992.4, 6544.1, 5340.3, 280.6, 27, 109\n",
      "4.460, 150753.3, 6713.9, 5516.7, 218.3, 27, 109\n",
      "4.500, 156479.9, 7330.0, 5332.5, 409.2, 27, 109\n",
      "4.540, 151062.9, 6573.7, 5669.2, 183.3, 27, 109\n",
      "4.580, 150610.9, 6578.2, 5400.1, 228.0, 26, 109\n",
      "4.620, 153460.1, 6885.3, 5617.7, 239.4, 21, 109\n",
      "4.660, 176454.1, 9756.9, 5852.0, 912.0, 17, 109\n",
      "4.700, 158069.8, 6835.8, 5831.8, 182.7, 23, 109\n",
      "4.740, 153171.5, 6689.7, 5618.2, 212.6, 25, 109\n",
      "4.780, 152143.5, 6500.6, 5532.3, 184.1, 21, 109\n",
      "4.820, 152707.2, 6487.0, 5697.1, 179.0, 24, 109\n",
      "4.860, 152310.2, 6525.7, 5747.4, 163.5, 22, 109\n",
      "4.900, 152641.1, 6480.4, 5751.9, 150.6, 22, 109\n",
      "4.940, 154708.9, 6728.9, 5590.7, 198.2, 19, 109\n",
      "4.980, 153683.5, 6559.9, 5686.2, 194.8, 22, 109\n",
      "5.020, 154379.9, 6663.9, 5722.3, 180.8, 23, 109\n",
      "5.060, 159375.2, 9104.5, 5706.3, 727.1, 21, 109\n",
      "5.100, 155105.7, 6861.3, 5827.0, 201.8, 20, 109\n",
      "5.140, 156947.5, 7125.7, 5499.1, 314.0, 20, 109\n",
      "5.180, 155065.6, 6610.8, 5690.3, 190.9, 19, 109\n",
      "5.220, 255515.4, 55626.1, 6077.5, 9943.8, 16, 109\n",
      "5.260, 165057.1, 6986.1, 6239.7, 153.9, 25, 109\n",
      "5.300, 184248.8, 8891.5, 6626.7, 533.7, 22, 109\n",
      "5.340, 15643460.7, 8251758.3, 7619.6, 1656596.6, 8, 109\n",
      "5.380, 589629.5, 112168.6, 8104.7, 21426.0, 6, 110\n",
      "5.420, 177339.4, 9691.8, 6210.9, 557.8, 20, 109\n",
      "5.460, 268702.7, 55971.1, 5905.6, 10187.8, 12, 109\n",
      "5.500, 162844.3, 9134.2, 5787.4, 696.9, 21, 109\n",
      "5.540, 153501.3, 6905.6, 5558.7, 225.4, 18, 109\n",
      "5.580, 150867.0, 6464.6, 5600.7, 171.4, 21, 109\n",
      "5.620, 150786.8, 6541.0, 5602.2, 179.7, 22, 109\n",
      "5.660, 150011.1, 6295.6, 5631.6, 146.1, 19, 109\n",
      "5.700, 149175.5, 6400.8, 5481.7, 166.8, 22, 109\n",
      "5.740, 149372.6, 6382.4, 5551.2, 188.7, 19, 109\n",
      "5.780, 155417.9, 8425.5, 5643.8, 663.4, 20, 109\n",
      "5.820, 148625.9, 6244.4, 5630.8, 158.6, 19, 109\n",
      "5.860, 150137.3, 6507.5, 5577.6, 166.0, 23, 109\n",
      "5.900, 149578.7, 6400.1, 5499.8, 181.4, 22, 109\n",
      "5.940, 148380.5, 6320.0, 5504.3, 185.7, 16, 109\n",
      "5.980, 149479.6, 6528.7, 5387.1, 178.4, 23, 109\n",
      "6.020, 149147.9, 6403.4, 5506.3, 190.2, 18, 109\n",
      "6.060, 147644.1, 6290.1, 5494.0, 176.0, 18, 109\n",
      "6.100, 148864.4, 6414.9, 5611.9, 178.7, 20, 109\n",
      "6.140, 147972.7, 6279.1, 5506.7, 171.9, 23, 109\n",
      "6.180, 148765.4, 6389.7, 5558.3, 166.6, 22, 109\n",
      "6.220, 149744.7, 6309.7, 5574.5, 186.4, 20, 109\n",
      "6.260, 148704.5, 6305.5, 5553.4, 138.1, 20, 109\n",
      "6.300, 148953.3, 6387.5, 5364.8, 174.6, 21, 109\n",
      "6.340, 147607.0, 6197.0, 5582.8, 145.6, 20, 109\n",
      "6.380, 148198.2, 6321.3, 5619.9, 161.0, 23, 109\n",
      "6.420, 148199.4, 6332.1, 5590.6, 181.2, 18, 109\n",
      "6.460, 147907.0, 6384.5, 5527.3, 156.3, 24, 109\n",
      "6.500, 148124.3, 6400.9, 5626.9, 161.7, 21, 109\n",
      "6.540, 146524.4, 6268.0, 5393.1, 191.4, 20, 109\n",
      "6.580, 146598.7, 6350.0, 5515.0, 160.3, 18, 109\n",
      "6.620, 146839.8, 6413.1, 5284.1, 198.8, 23, 109\n",
      "6.660, 146569.0, 6348.0, 5422.7, 190.4, 22, 109\n",
      "6.700, 147058.4, 6387.6, 5473.0, 191.8, 22, 109\n",
      "6.740, 145588.2, 6201.3, 5493.2, 150.1, 23, 109\n",
      "6.780, 145418.2, 6133.9, 5378.9, 133.9, 23, 109\n",
      "6.820, 145484.8, 6310.7, 5410.9, 177.4, 23, 109\n",
      "6.860, 144911.5, 6453.9, 5377.6, 170.5, 23, 109\n",
      "6.900, 145141.2, 6148.6, 5382.8, 165.8, 19, 109\n",
      "6.940, 146190.7, 6211.9, 5432.8, 170.1, 21, 109\n",
      "6.980, 144076.3, 6171.2, 5389.1, 161.5, 24, 109\n",
      "7.020, 144715.1, 6461.9, 5321.3, 179.0, 22, 109\n",
      "7.060, 143159.3, 6141.2, 5465.7, 158.6, 16, 109\n",
      "7.100, 144552.4, 6274.7, 5375.7, 167.0, 24, 109\n",
      "7.140, 143235.5, 6103.0, 5349.3, 146.6, 22, 109\n",
      "7.180, 143223.9, 6257.3, 5300.7, 178.2, 20, 109\n",
      "7.220, 143693.5, 6147.5, 5356.2, 151.7, 20, 110\n",
      "7.260, 141779.5, 6024.1, 5314.2, 162.0, 22, 109\n",
      "7.300, 141833.0, 6085.7, 5246.3, 154.1, 21, 109\n",
      "7.340, 142648.6, 6209.1, 5283.1, 193.4, 22, 109\n",
      "7.380, 144787.6, 10448.5, 5128.5, 648.4, 21, 109\n",
      "7.420, 144456.5, 10209.7, 5076.5, 600.4, 20, 109\n",
      "7.460, 140189.7, 6043.8, 5136.2, 181.1, 23, 109\n",
      "7.500, 140280.1, 5963.0, 5230.8, 178.6, 24, 109\n",
      "7.540, 139708.5, 5938.0, 5154.6, 159.3, 22, 109\n",
      "7.580, 138849.3, 6078.9, 5207.7, 144.9, 23, 109\n",
      "7.620, 139392.6, 6071.0, 5193.8, 181.9, 20, 109\n",
      "7.660, 140032.8, 6175.4, 4925.0, 208.3, 22, 109\n",
      "7.700, 139207.4, 5931.4, 5125.1, 154.0, 24, 109\n",
      "7.740, 138550.2, 5982.2, 5156.2, 166.1, 20, 109\n",
      "7.780, 138602.8, 5884.5, 5247.0, 159.3, 17, 109\n",
      "7.820, 137968.8, 5923.1, 5061.9, 175.9, 20, 109\n",
      "7.860, 147820.2, 8330.4, 5232.5, 676.7, 20, 109\n",
      "7.900, 138593.9, 5956.2, 5091.2, 174.1, 24, 109\n",
      "7.940, 136631.7, 5929.4, 5049.5, 163.6, 21, 109\n",
      "7.980, 137838.7, 5883.5, 5118.9, 173.3, 25, 109\n"
     ]
    }
   ],
   "source": [
    "# the following cell executes the bucketing\n",
    "if Output == 'file':\n",
    "    with open(BucketFileName,'w') as F:\n",
    "        D1.bucket1d(zoom=Zoom, bsize=BucketSize, pp=True, file=F)\n",
    "    print('buckets written to %s\\n'%op.realpath(BucketFileName))\n",
    "else:\n",
    "    D1.bucket1d(zoom=Zoom, bsize=BucketSize, pp=True);"
   ]
  },
  {
   "cell_type": "markdown",
   "metadata": {},
   "source": [
    "*Tools in this page is under intensive development - things are going to change rapidly.*\n",
    "\n",
    "to come/finish:\n",
    "\n",
    "- spectral superposition\n",
    "- annotations"
   ]
  },
  {
   "cell_type": "code",
   "execution_count": null,
   "metadata": {},
   "outputs": [],
   "source": []
  }
 ],
 "metadata": {
  "jupytext": {
   "encoding": "# -*- coding: utf-8 -*-",
   "formats": "ipynb,py:percent"
  },
  "kernelspec": {
   "display_name": "Python 3",
   "language": "python",
   "name": "python3"
  },
  "language_info": {
   "codemirror_mode": {
    "name": "ipython",
    "version": 3
   },
   "file_extension": ".py",
   "mimetype": "text/x-python",
   "name": "python",
   "nbconvert_exporter": "python",
   "pygments_lexer": "ipython3",
   "version": "3.7.4"
  },
  "toc": {
   "base_numbering": 1,
   "nav_menu": {},
   "number_sections": true,
   "sideBar": true,
   "skip_h1_title": true,
   "title_cell": "Table of Contents",
   "title_sidebar": "Contents",
   "toc_cell": true,
   "toc_position": {},
   "toc_section_display": true,
   "toc_window_display": false
  },
  "varInspector": {
   "cols": {
    "lenName": 16,
    "lenType": 16,
    "lenVar": 40
   },
   "kernels_config": {
    "python": {
     "delete_cmd_postfix": "",
     "delete_cmd_prefix": "del ",
     "library": "var_list.py",
     "varRefreshCmd": "print(var_dic_list())"
    },
    "r": {
     "delete_cmd_postfix": ") ",
     "delete_cmd_prefix": "rm(",
     "library": "var_list.r",
     "varRefreshCmd": "cat(var_dic_list()) "
    }
   },
   "types_to_exclude": [
    "module",
    "function",
    "builtin_function_or_method",
    "instance",
    "_Feature"
   ],
   "window_display": false
  }
 },
 "nbformat": 4,
 "nbformat_minor": 2
}
