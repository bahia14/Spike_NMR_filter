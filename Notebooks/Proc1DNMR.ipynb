{
 "cells": [
  {
   "cell_type": "markdown",
   "metadata": {},
   "source": [
    "** *This notebook is unfinished and still under development* **\n",
    "\n",
    "# 1D NMR Processing and Display\n",
    "\n",
    "a simplified environment for processing 1D Bruker NMR datasets with `SPIKE`.\n",
    "\n",
    "Run each python cell in sequence by using the ⇥Run button above (or typing *shift* Enter).\n",
    "\n",
    "Cells are meant to be used in order, taking you to the complete analysis, but you can go back at any time.\n",
    "\n",
    "The SPIKE code used for processing is visible in the cells, and can be used as a minimal tutorial.\n",
    "\n",
    "***Remark*** *to use this program, you should have installed the following packages:*\n",
    "\n",
    "- *a complete scientific python environment* ( *tested with python 3.6 - [anaconda](https://www.anaconda.com/) \n",
    " but it should also work in python 2.7*)\n",
    "- [`spike`](https://www.bitbucket.org/delsuc/spike) ( *version 0.99.9 minimum* )\n",
    "- [`ipywidgets`](https://ipywidgets.readthedocs.io/en/latest/)  ( *tested with version 7.1* )\n",
    "- [`ipyml`](https://github.com/matplotlib/jupyter-matplotlib)  ( *adds interactivity in the notebook* )\n",
    "\n",
    "## Initialization\n",
    "the following cell should be run only once, at the beginning of the processing"
   ]
  },
  {
   "cell_type": "code",
   "execution_count": 1,
   "metadata": {
    "ExecuteTime": {
     "end_time": "2019-10-28T10:29:05.741519Z",
     "start_time": "2019-10-28T10:29:03.724168Z"
    }
   },
   "outputs": [
    {
     "data": {
      "text/markdown": [
       "## STARTING Environment..."
      ],
      "text/plain": [
       "<IPython.core.display.Markdown object>"
      ]
     },
     "metadata": {},
     "output_type": "display_data"
    },
    {
     "name": "stdout",
     "output_type": "stream",
     "text": [
      "\n",
      "    ========================\n",
      "          SPIKE\n",
      "    ========================\n",
      "    Version     : 0.99.13\n",
      "    Date        : 07-10-2019\n",
      "    Revision Id : 436\n",
      "    ========================\n",
      "*** bokeh_display not loaded ***\n",
      "*** wavelet not loaded ***\n",
      "*** zoom3D not loaded ***\n",
      "plugins loaded:\n",
      "Bruker_NMR_FT,  Bucketing,  FTMS_calib,  Fitter,  Integrate,  Linear_prediction,  PALMA,  Peaks,  apmin,  bcorr,  fastclean,  gaussenh,  pg_sane,  rem_ridge,  sane,  sg,  test,  urQRd, \n",
      "\n",
      "spike.plugins.report() for a short description of each plugins\n",
      "spike.plugins.report('module_name') for complete documentation on one plugin\n"
     ]
    },
    {
     "data": {
      "text/markdown": [
       "## ...program is Ready"
      ],
      "text/plain": [
       "<IPython.core.display.Markdown object>"
      ]
     },
     "metadata": {},
     "output_type": "display_data"
    },
    {
     "data": {
      "text/html": [
       "\n",
       "<style>hr {height: 2px; border: 0;border-top: 1px solid #ccc;margin: 1em 0;padding: 0; }</style>\n",
       "<script>\n",
       "code_show=false; \n",
       "function code_toggle() { if (code_show){ $('div.input').hide(); } else { $('div.input').show(); } code_show = !code_show } \n",
       "$( document ).ready(code_toggle);\n",
       "</script>\n",
       "<form action=\"javascript:code_toggle()\">\n",
       "<input type=\"submit\" style=\"border:1px solid black; background-color:#DDD\" value=\"hide/show the python code.\">\n",
       "<i>usefull to show/print a clean screen when processing is finished</i>\n",
       "</form>"
      ],
      "text/plain": [
       "<IPython.core.display.HTML object>"
      ]
     },
     "metadata": {},
     "output_type": "display_data"
    }
   ],
   "source": [
    "# load all python and interactive tools\n",
    "from __future__ import print_function, division\n",
    "from IPython.display import display, HTML, Markdown, Image\n",
    "display(Markdown('## STARTING Environment...'))\n",
    "%matplotlib widget\n",
    "import os.path as op\n",
    "import spike\n",
    "from spike.File.BrukerNMR import Import_1D\n",
    "from spike.Interactive import INTER as I\n",
    "from spike.Interactive.ipyfilechooser import FileChooser\n",
    "display(Markdown('## ...program is Ready'))\n",
    "from importlib import reload  # the two following lines are debugging help\n",
    "reload(I)                   # and can be removed safely when in production\n",
    "I.hidecode()"
   ]
  },
  {
   "cell_type": "markdown",
   "metadata": {},
   "source": [
    "### Choose the file\n",
    "The `FileChooser()` tool creates a dialog box which allows to choose a file on your disk\n",
    "\n",
    "- use the `Select` button\n",
    "- modify the ( *optional* ) `path` argument, to start the exploration on a given location\n",
    "- After the selection, the selected filename is found in `FC.selected`"
   ]
  },
  {
   "cell_type": "code",
   "execution_count": null,
   "metadata": {
    "ExecuteTime": {
     "end_time": "2019-10-27T12:46:11.323114Z",
     "start_time": "2019-10-27T12:46:11.235083Z"
    }
   },
   "outputs": [],
   "source": [
    "FC = FileChooser(path='/DATA/',filename='fid')\n",
    "display(FC)"
   ]
  },
  {
   "cell_type": "markdown",
   "metadata": {},
   "source": [
    "### Import dataset\n",
    "\n",
    "This is simply done with the `Import_1D()` tool, which returns a `SPIKE` object.\n",
    "\n",
    "We store the dataset into a variable, typing the variable name shows a summary of the dataset. "
   ]
  },
  {
   "cell_type": "code",
   "execution_count": null,
   "metadata": {
    "ExecuteTime": {
     "end_time": "2019-10-26T17:11:23.266735Z",
     "start_time": "2019-10-26T17:11:23.186790Z"
    }
   },
   "outputs": [],
   "source": [
    "print('Reading file ',FC.selected)\n",
    "d1 = Import_1D(FC.selected)\n",
    "d1.filename = FC.selected\n",
    "d1.set_unit('sec').display(title=FC.nmrname+\" fid\")"
   ]
  },
  {
   "cell_type": "markdown",
   "metadata": {},
   "source": [
    "In the current set-up, the figure can be explored *(zoom, shift, resize, etc)* with the jupyter tools displayed  below the dataset.\n",
    "The figure can also be saved as a `png` graphic file.\n",
    "\n",
    "For more interactivity - see below.\n",
    "\n",
    "## Basic Processing\n",
    "We are going to use a basic processing set-up, check the documentation for advanced processing\n",
    "\n",
    "### Fourier Transform"
   ]
  },
  {
   "cell_type": "code",
   "execution_count": 2,
   "metadata": {
    "ExecuteTime": {
     "end_time": "2019-10-28T10:29:11.040689Z",
     "start_time": "2019-10-28T10:29:11.017348Z"
    }
   },
   "outputs": [],
   "source": [
    "class f:\n",
    "    pass\n",
    "FC = f()\n",
    "FC.selected = \"/DATA/ARTEref/1/fid\"\n",
    "FC.nmrname = 'TEST'\n",
    "d1 = Import_1D(FC.selected)\n",
    "d1.filename = FC.selected"
   ]
  },
  {
   "cell_type": "code",
   "execution_count": 3,
   "metadata": {
    "ExecuteTime": {
     "end_time": "2019-10-28T10:29:11.503111Z",
     "start_time": "2019-10-28T10:29:11.223705Z"
    }
   },
   "outputs": [
    {
     "data": {
      "application/vnd.jupyter.widget-view+json": {
       "model_id": "374529b3a6a34477bbd8687085ed914a",
       "version_major": 2,
       "version_minor": 0
      },
      "text/plain": [
       "FigureCanvasNbAgg()"
      ]
     },
     "metadata": {},
     "output_type": "display_data"
    },
    {
     "data": {
      "text/plain": [
       "1D data-set\n",
       "Axis F1 :NMR axis at 700.163291 MHz,  32768 complex pairs,  from -1.338538 ppm (-937.194868 Hz) to 10.683670 ppm  (7480.313549 Hz)\n",
       "data-set is complex"
      ]
     },
     "execution_count": 3,
     "metadata": {},
     "output_type": "execute_result"
    }
   ],
   "source": [
    "D1 = d1.copy() # copy the imported data-set to another object for processing\n",
    "D1.apod_em(0.3).zf(4).ft_sim().bk_corr().apmin()  # chaining  apodisation - zerofill - FT - Bruker correction - autophase\n",
    "D1.set_unit('ppm').display(title=FC.nmrname)  # chain  set to ppm unit - and display"
   ]
  },
  {
   "cell_type": "markdown",
   "metadata": {},
   "source": [
    "<hr/>\n",
    "\n",
    "**Following steps are optional**\n",
    "\n",
    "### rephasing\n",
    "If is is required use the interactive phaser\n",
    "\n",
    "Use `scale` (or mouse wheel) and the zoom box to tune the display; then use `P0, P1, pivot` to optimize the phase.\n",
    "\n",
    "`pivot` is where the $1^{st}$ order correction is not acting - and can be moved with the slider or by clicking on the spectrum\n",
    "\n",
    "Once finished, click on `Done`"
   ]
  },
  {
   "cell_type": "code",
   "execution_count": null,
   "metadata": {
    "ExecuteTime": {
     "end_time": "2019-10-25T16:11:35.162706Z",
     "start_time": "2019-10-25T16:11:35.021978Z"
    },
    "scrolled": false
   },
   "outputs": [],
   "source": [
    "reload(I)\n",
    "I.Phaser1D(D1, reverse_scroll=True);"
   ]
  },
  {
   "cell_type": "markdown",
   "metadata": {},
   "source": [
    "### Baseline correction\n",
    "A simple interactive baseline correction tool\n",
    "\n",
    "Choose positions on the baseline of the spectrum with the `select` slider or  by clicking on the baseline.\n",
    "`Add` a control point and see its effect either on the spectrum, or the computed baseline.\n",
    "\n",
    "You can also `Rem`ove the control point closest to the selector.\n",
    "You can also try the `Auto` button for a set of selector points, a set you can optimize by adding and removing points."
   ]
  },
  {
   "cell_type": "code",
   "execution_count": null,
   "metadata": {
    "ExecuteTime": {
     "end_time": "2019-10-25T18:40:08.185295Z",
     "start_time": "2019-10-25T18:40:08.025380Z"
    },
    "scrolled": false
   },
   "outputs": [],
   "source": [
    "reload(I)\n",
    "I.baseline1D(D1, reverse_scroll=True);"
   ]
  },
  {
   "cell_type": "markdown",
   "metadata": {},
   "source": [
    "## Peak-Picker\n",
    "- first detect peaks (<span style=color:red>in red</span>) in the zoom window by moving the `threshold`\n",
    "- `Add` the detected peaks to the permanent peak list (<span style=color:blue>in blue</span>)\n",
    "- recalibrate the spectrum in the `calibration` tab by clicking on a peak and setting the correct ppm value\n",
    "- get the peak-list in the `Peak Table` tab"
   ]
  },
  {
   "cell_type": "code",
   "execution_count": null,
   "metadata": {
    "ExecuteTime": {
     "end_time": "2019-10-25T18:57:29.411384Z",
     "start_time": "2019-10-25T18:57:29.406063Z"
    }
   },
   "outputs": [],
   "source": [
    "D1.peaks.threshold"
   ]
  },
  {
   "cell_type": "code",
   "execution_count": null,
   "metadata": {
    "ExecuteTime": {
     "end_time": "2019-10-26T18:36:42.974960Z",
     "start_time": "2019-10-26T18:36:42.708606Z"
    },
    "scrolled": false
   },
   "outputs": [],
   "source": [
    "reload(I)\n",
    "ph = I.NMRPeaker1D(D1, reverse_scroll=True);"
   ]
  },
  {
   "cell_type": "markdown",
   "metadata": {},
   "source": [
    "## Integrate\n",
    "Integration zones are computed from the peaks detected with the Peak-Picker above **required**\n"
   ]
  },
  {
   "cell_type": "code",
   "execution_count": 6,
   "metadata": {
    "ExecuteTime": {
     "end_time": "2019-10-28T13:46:25.921429Z",
     "start_time": "2019-10-28T13:46:25.560608Z"
    },
    "scrolled": false
   },
   "outputs": [
    {
     "data": {
      "application/vnd.jupyter.widget-view+json": {
       "model_id": "7808fe800ea84f238c235ee91535549d",
       "version_major": 2,
       "version_minor": 0
      },
      "text/plain": [
       "NMRIntegrate(children=(VBox(children=(HBox(children=(Button(button_style='success', description='Done', layout…"
      ]
     },
     "metadata": {},
     "output_type": "display_data"
    },
    {
     "name": "stdout",
     "output_type": "stream",
     "text": [
      "PP: 10 detected\n",
      "PP: 10 detected\n",
      "PP: 10 detected\n",
      "PP: 10 detected\n",
      "PP: 112 detected\n",
      "PP: 112 detected\n"
     ]
    }
   ],
   "source": [
    "from spike.plugins import Peaks, Integrate\n",
    "reload(Integrate)\n",
    "reload(Peaks)\n",
    "reload(I)\n",
    "D1.real()\n",
    "ii = I.NMRIntegrate(D1);"
   ]
  },
  {
   "cell_type": "code",
   "execution_count": null,
   "metadata": {
    "ExecuteTime": {
     "end_time": "2019-10-28T10:28:19.316655Z",
     "start_time": "2019-10-28T10:28:19.304444Z"
    }
   },
   "outputs": [],
   "source": [
    "start, end = ii.ax.get_xbound()\n",
    "Integrate.Integralitem(ii.data.axis1.ptoi(start), ii.data.axis1.ptoi(end), [], 0.0)"
   ]
  },
  {
   "cell_type": "markdown",
   "metadata": {},
   "source": [
    "## Interactive composite display\n",
    "Convenient to set-up your own figure"
   ]
  },
  {
   "cell_type": "code",
   "execution_count": null,
   "metadata": {
    "ExecuteTime": {
     "end_time": "2019-10-23T15:11:36.235804Z",
     "start_time": "2019-10-23T15:11:36.181640Z"
    }
   },
   "outputs": [],
   "source": [
    "reload(I)\n",
    "s = I.Show1Dplus(D1, title=FC.nmrname, reverse_scroll=True);"
   ]
  },
  {
   "cell_type": "markdown",
   "metadata": {},
   "source": [
    "## Save the data-set\n",
    "either as stand alone native SPIKE files, (there are other formats)"
   ]
  },
  {
   "cell_type": "code",
   "execution_count": null,
   "metadata": {},
   "outputs": [],
   "source": [
    "D1.save('example1.gs1')"
   ]
  },
  {
   "cell_type": "markdown",
   "metadata": {},
   "source": [
    "or as a `csv` text file, - in which case, it is probably better to remove the imaginary part, not useful there.\n",
    "\n",
    "The file contains some basic informations in addition to the spectral data"
   ]
  },
  {
   "cell_type": "code",
   "execution_count": null,
   "metadata": {},
   "outputs": [],
   "source": [
    "D1.copy().real().save_csv('example.csv')"
   ]
  },
  {
   "cell_type": "markdown",
   "metadata": {},
   "source": [
    "### Save the peak list to a csv file"
   ]
  },
  {
   "cell_type": "code",
   "execution_count": null,
   "metadata": {
    "ExecuteTime": {
     "end_time": "2019-06-21T13:14:27.575626Z",
     "start_time": "2019-06-21T13:14:27.501404Z"
    }
   },
   "outputs": [],
   "source": [
    "D1.pk2pandas().to_csv('peaklist.csv')"
   ]
  },
  {
   "cell_type": "markdown",
   "metadata": {},
   "source": [
    "### Save the integrals to a csv file"
   ]
  },
  {
   "cell_type": "code",
   "execution_count": null,
   "metadata": {
    "ExecuteTime": {
     "end_time": "2019-06-21T13:14:29.454675Z",
     "start_time": "2019-06-21T13:14:29.447579Z"
    }
   },
   "outputs": [],
   "source": [
    "D1.integrals.to_pandas().to_csv('integrals.csv')"
   ]
  },
  {
   "cell_type": "markdown",
   "metadata": {},
   "source": [
    "## Export a buckelist"
   ]
  },
  {
   "cell_type": "code",
   "execution_count": null,
   "metadata": {},
   "outputs": [],
   "source": [
    "# adapt the parameters below\n",
    "Zoom = (0.5,8)                    # zone to bucket       - (start, end) in ppm\n",
    "BucketSize = 0.04                 # width of the buckets - in ppm\n",
    "Output = 'screen'                 # 'screen'  or  'file'  determines output\n",
    "BucketFileName = 'bucket.csv'     #  the filename if Output (above) is 'file'  - don't forget the .csv extension."
   ]
  },
  {
   "cell_type": "code",
   "execution_count": null,
   "metadata": {},
   "outputs": [],
   "source": [
    "# the following cell executes the bucketing\n",
    "if Output == 'file':\n",
    "    with open(BucketFileName,'w') as F:\n",
    "        D1.bucket1d(zoom=Zoom, bsize=BucketSize, pp=True, file=F)\n",
    "    print('buckets written to %s\\n'%op.realpath(BucketFileName))\n",
    "else:\n",
    "    D1.bucket1d(zoom=Zoom, bsize=BucketSize, pp=True);"
   ]
  },
  {
   "cell_type": "markdown",
   "metadata": {},
   "source": [
    "*Tools in this page is under intensive development - things are going to change rapidly.*\n",
    "\n",
    "to come:\n",
    "\n",
    "- spectral superposition\n",
    "- peak-pick by zone\n",
    "- peak aggregators\n",
    "- peak and integral tables editable\n",
    "- hand defined integrals"
   ]
  },
  {
   "cell_type": "code",
   "execution_count": null,
   "metadata": {
    "ExecuteTime": {
     "end_time": "2019-10-28T10:22:20.418526Z",
     "start_time": "2019-10-28T10:22:20.288326Z"
    }
   },
   "outputs": [],
   "source": [
    "from spike.plugins import Peaks, Integrate\n",
    "reload(Integrate)\n",
    "reload(Peaks)"
   ]
  },
  {
   "cell_type": "code",
   "execution_count": null,
   "metadata": {
    "ExecuteTime": {
     "end_time": "2019-10-25T12:45:50.442432Z",
     "start_time": "2019-10-25T12:45:50.437395Z"
    }
   },
   "outputs": [],
   "source": [
    "pk1 = D1.peaks\n",
    "len(pk1)"
   ]
  },
  {
   "cell_type": "code",
   "execution_count": null,
   "metadata": {
    "ExecuteTime": {
     "end_time": "2019-10-25T12:46:22.706753Z",
     "start_time": "2019-10-25T12:46:22.694522Z"
    }
   },
   "outputs": [],
   "source": [
    "pk1.merge(D1.peaks)\n",
    "len(pk1)"
   ]
  },
  {
   "cell_type": "code",
   "execution_count": null,
   "metadata": {
    "ExecuteTime": {
     "end_time": "2019-10-25T12:49:52.119998Z",
     "start_time": "2019-10-25T12:49:52.103345Z"
    }
   },
   "outputs": [],
   "source": [
    "len(pk1 ), len(D1.peaks ),len(pk1 + D1.peaks )\n",
    "len(Peaks.peak_aggreg(pk1+D1.peaks, distance=1))"
   ]
  },
  {
   "cell_type": "code",
   "execution_count": null,
   "metadata": {
    "ExecuteTime": {
     "end_time": "2019-10-25T13:09:38.441227Z",
     "start_time": "2019-10-25T13:09:38.432541Z"
    }
   },
   "outputs": [],
   "source": [
    "temppk = Peaks.Peak1DList()"
   ]
  },
  {
   "cell_type": "code",
   "execution_count": null,
   "metadata": {},
   "outputs": [],
   "source": []
  }
 ],
 "metadata": {
  "jupytext": {
   "encoding": "# -*- coding: utf-8 -*-",
   "formats": "ipynb,py:percent"
  },
  "kernelspec": {
   "display_name": "Python 3",
   "language": "python",
   "name": "python3"
  },
  "language_info": {
   "codemirror_mode": {
    "name": "ipython",
    "version": 3
   },
   "file_extension": ".py",
   "mimetype": "text/x-python",
   "name": "python",
   "nbconvert_exporter": "python",
   "pygments_lexer": "ipython3",
   "version": "3.7.4"
  },
  "toc": {
   "base_numbering": 1,
   "nav_menu": {},
   "number_sections": true,
   "sideBar": true,
   "skip_h1_title": true,
   "title_cell": "Table of Contents",
   "title_sidebar": "Contents",
   "toc_cell": true,
   "toc_position": {},
   "toc_section_display": true,
   "toc_window_display": false
  },
  "varInspector": {
   "cols": {
    "lenName": 16,
    "lenType": 16,
    "lenVar": 40
   },
   "kernels_config": {
    "python": {
     "delete_cmd_postfix": "",
     "delete_cmd_prefix": "del ",
     "library": "var_list.py",
     "varRefreshCmd": "print(var_dic_list())"
    },
    "r": {
     "delete_cmd_postfix": ") ",
     "delete_cmd_prefix": "rm(",
     "library": "var_list.r",
     "varRefreshCmd": "cat(var_dic_list()) "
    }
   },
   "types_to_exclude": [
    "module",
    "function",
    "builtin_function_or_method",
    "instance",
    "_Feature"
   ],
   "window_display": false
  }
 },
 "nbformat": 4,
 "nbformat_minor": 2
}
