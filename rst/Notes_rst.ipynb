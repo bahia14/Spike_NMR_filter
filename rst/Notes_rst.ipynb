{
 "metadata": {
  "name": "",
  "signature": "sha256:0a294b792ac7aba231254b5ee893d8b8bc3d2553f8f2e3ed37c3aa32a8daaa76"
 },
 "nbformat": 3,
 "nbformat_minor": 0,
 "worksheets": [
  {
   "cells": [
    {
     "cell_type": "markdown",
     "metadata": {},
     "source": [
      "3/12/14  \n",
      "removed Fista and Recital from doc.  "
     ]
    },
    {
     "cell_type": "code",
     "collapsed": false,
     "input": [],
     "language": "python",
     "metadata": {},
     "outputs": []
    }
   ],
   "metadata": {}
  }
 ]
}