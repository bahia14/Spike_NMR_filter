{
 "metadata": {
  "name": "",
  "signature": "sha256:a782f1e54e20ce2ff3f056cc104c251bc6510f519b24227b94881efe2645575d"
 },
 "nbformat": 3,
 "nbformat_minor": 0,
 "worksheets": [
  {
   "cells": [
    {
     "cell_type": "markdown",
     "metadata": {},
     "source": [
      "3/12/14  \n",
      "removed Fista and Recital from doc.  "
     ]
    }
   ],
   "metadata": {}
  }
 ]
}