{
 "cells": [
  {
   "cell_type": "markdown",
   "metadata": {
    "toc": true
   },
   "source": [
    "<h1>Table of Contents<span class=\"tocSkip\"></span></h1>\n",
    "<div class=\"toc\"><ul class=\"toc-item\"><li><span><a href=\"#Initialization\" data-toc-modified-id=\"Initialization-1\"><span class=\"toc-item-num\">1&nbsp;&nbsp;</span>Initialization</a></span><ul class=\"toc-item\"><li><span><a href=\"#Choose-the-file\" data-toc-modified-id=\"Choose-the-file-1.1\"><span class=\"toc-item-num\">1.1&nbsp;&nbsp;</span>Choose the file</a></span></li><li><span><a href=\"#Import-dataset\" data-toc-modified-id=\"Import-dataset-1.2\"><span class=\"toc-item-num\">1.2&nbsp;&nbsp;</span>Import dataset</a></span></li></ul></li><li><span><a href=\"#Basic-Processing\" data-toc-modified-id=\"Basic-Processing-2\"><span class=\"toc-item-num\">2&nbsp;&nbsp;</span>Basic Processing</a></span><ul class=\"toc-item\"><li><span><a href=\"#Fourier-Transform\" data-toc-modified-id=\"Fourier-Transform-2.1\"><span class=\"toc-item-num\">2.1&nbsp;&nbsp;</span>Fourier Transform</a></span></li><li><span><a href=\"#rephasing\" data-toc-modified-id=\"rephasing-2.2\"><span class=\"toc-item-num\">2.2&nbsp;&nbsp;</span>rephasing</a></span></li></ul></li><li><span><a href=\"#Peak-Picker\" data-toc-modified-id=\"Peak-Picker-3\"><span class=\"toc-item-num\">3&nbsp;&nbsp;</span>Peak-Picker</a></span></li><li><span><a href=\"#Integrate\" data-toc-modified-id=\"Integrate-4\"><span class=\"toc-item-num\">4&nbsp;&nbsp;</span>Integrate</a></span></li><li><span><a href=\"#Interactive-composite-display\" data-toc-modified-id=\"Interactive-composite-display-5\"><span class=\"toc-item-num\">5&nbsp;&nbsp;</span>Interactive composite display</a></span></li><li><span><a href=\"#Save-the-data-set\" data-toc-modified-id=\"Save-the-data-set-6\"><span class=\"toc-item-num\">6&nbsp;&nbsp;</span>Save the data-set</a></span><ul class=\"toc-item\"><li><span><a href=\"#Save-the-peak-list-to-a-csv-file\" data-toc-modified-id=\"Save-the-peak-list-to-a-csv-file-6.1\"><span class=\"toc-item-num\">6.1&nbsp;&nbsp;</span>Save the peak list to a csv file</a></span></li><li><span><a href=\"#Save-the-integrals-to-a-csv-file\" data-toc-modified-id=\"Save-the-integrals-to-a-csv-file-6.2\"><span class=\"toc-item-num\">6.2&nbsp;&nbsp;</span>Save the integrals to a csv file</a></span></li></ul></li></ul></div>"
   ]
  },
  {
   "cell_type": "markdown",
   "metadata": {},
   "source": [
    "# 1D NMR Processing and Display\n",
    "\n",
    "a simplified environment for processing 1D Bruker NMR datasets with `SPIKE`.\n",
    "\n",
    "Run each python cell in sequence by using the ⇥Run button above (or typing *shift* Enter).\n",
    "\n",
    "Cells are meant to be used in order, taking you to the complete analysis, but you can go back at any time.\n",
    "\n",
    "The SPIKE code used for processing is visible in the cells, and can be used as a minimal tutorial.\n",
    "\n",
    "***Remark*** *to use this program, you should have installed the following packages:*\n",
    "\n",
    "- *a complete scientific python environment* ( *tested with python 3.6 - [anaconda](https://www.anaconda.com/) \n",
    " but it should also work in python 2.7*)\n",
    "- [`spike`](https://www.bitbucket.org/delsuc/spike) ( *version 0.99.9 minimum* )\n",
    "- [`ipywidgets`](https://ipywidgets.readthedocs.io/en/latest/)  ( *tested with version 7.1* )\n",
    "\n",
    "## Initialization\n",
    "the following cell should be run only once, at the beginning of the processing"
   ]
  },
  {
   "cell_type": "code",
   "execution_count": null,
   "metadata": {
    "ExecuteTime": {
     "end_time": "2019-06-21T09:33:15.801287Z",
     "start_time": "2019-06-21T09:33:10.418883Z"
    }
   },
   "outputs": [],
   "source": [
    "# load all python and interactive tools\n",
    "from __future__ import print_function, division\n",
    "%matplotlib notebook\n",
    "import os.path as op\n",
    "from IPython.display import display, HTML, Markdown, Image\n",
    "import spike\n",
    "from spike.File.BrukerNMR import Import_1D\n",
    "from spike.Interactive import INTER as I\n",
    "from spike.Interactive.ipyfilechooser import FileChooser\n",
    "display(Markdown('## Program is Ready'))"
   ]
  },
  {
   "cell_type": "markdown",
   "metadata": {},
   "source": [
    "### Choose the file\n",
    "The `FileChooser()` tool creates a dialog box which allows to choose a file on your disk\n",
    "\n",
    "- use the `Select` button\n",
    "- modify the ( *optional* ) `path` argument, to start the exploration on a given location\n",
    "- After the selection, the selected filename is found in `FC.selected`"
   ]
  },
  {
   "cell_type": "code",
   "execution_count": null,
   "metadata": {
    "ExecuteTime": {
     "end_time": "2019-06-21T09:34:50.404908Z",
     "start_time": "2019-06-21T09:34:50.328239Z"
    }
   },
   "outputs": [],
   "source": [
    "FC = FileChooser(path='/DATA/pharma/',filename='fid')\n",
    "display(FC)"
   ]
  },
  {
   "cell_type": "markdown",
   "metadata": {},
   "source": [
    "### Import dataset\n",
    "\n",
    "This is simply done with the `Import_1D()` tool, which returns a `SPIKE` object.\n",
    "\n",
    "We store the dataset into a variable, typing the variable name shows a summary of the dataset. "
   ]
  },
  {
   "cell_type": "code",
   "execution_count": null,
   "metadata": {
    "ExecuteTime": {
     "end_time": "2019-06-21T09:35:09.463624Z",
     "start_time": "2019-06-21T09:35:09.216878Z"
    }
   },
   "outputs": [],
   "source": [
    "print('Reading file ',FC.selected)\n",
    "d1 = Import_1D(FC.selected)\n",
    "d1.filename = FC.selected\n",
    "d1.set_unit('sec').display(title=FC.nmrname+\" fid\")\n",
    "d1"
   ]
  },
  {
   "cell_type": "markdown",
   "metadata": {},
   "source": [
    "In the current set-up, the figure can be explored *(zoom, shift, resize, etc)* with the jupyter tools displayed  below the dataset.\n",
    "The figure can also be saved as a `png` graphic file.\n",
    "\n",
    "At anytime, the figure can be frozen by clicking on the blue button on the upper right corner, just rerun the cell to make it interactive again.\n",
    "\n",
    "## Basic Processing\n",
    "We are going to use a basic processing set-up, check the documentation for advanced processing\n",
    "\n",
    "### Fourier Transform"
   ]
  },
  {
   "cell_type": "code",
   "execution_count": null,
   "metadata": {
    "ExecuteTime": {
     "end_time": "2019-06-21T09:35:27.335864Z",
     "start_time": "2019-06-21T09:35:27.094925Z"
    }
   },
   "outputs": [],
   "source": [
    "D1 = d1.copy() # copy the imported data-set to another object for processing\n",
    "D1.apod_em(0.3).zf(4).ft_sim().bk_corr().apmin()  # chaining  apodisation - zerofill - FT - Bruker correction - autophase\n",
    "D1.set_unit('ppm').display(title=FC.nmrname)  # chain  set to ppm unit - and display"
   ]
  },
  {
   "cell_type": "markdown",
   "metadata": {},
   "source": [
    "### rephasing\n",
    "If is is required use the interactive phaser\n",
    "\n",
    "Use `scale` and `zoom` to tune the display; then use `P0, P1, pivot` to optimize the phase.\n",
    "\n",
    "Once finished, click on `Apply correction`"
   ]
  },
  {
   "cell_type": "code",
   "execution_count": null,
   "metadata": {
    "ExecuteTime": {
     "end_time": "2019-06-21T09:35:31.336160Z",
     "start_time": "2019-06-21T09:35:31.238017Z"
    }
   },
   "outputs": [],
   "source": [
    "I.Phaser1D(D1);"
   ]
  },
  {
   "cell_type": "markdown",
   "metadata": {},
   "source": [
    "## Peak-Picker\n",
    "- moving the threshold determines the minimum peak intensity\n",
    "- peaks are searched only in the selected zoom window"
   ]
  },
  {
   "cell_type": "code",
   "execution_count": null,
   "metadata": {
    "ExecuteTime": {
     "end_time": "2019-06-21T09:36:02.500590Z",
     "start_time": "2019-06-21T09:36:02.144645Z"
    },
    "scrolled": false
   },
   "outputs": [],
   "source": [
    "I.NMRPeaker(D1);"
   ]
  },
  {
   "cell_type": "markdown",
   "metadata": {},
   "source": [
    "## Integrate\n",
    "Integration zones are computed from the peaks detected with the Peak-Picker above.\n"
   ]
  },
  {
   "cell_type": "code",
   "execution_count": null,
   "metadata": {
    "ExecuteTime": {
     "end_time": "2019-06-21T13:08:53.536403Z",
     "start_time": "2019-06-21T13:08:53.146675Z"
    }
   },
   "outputs": [],
   "source": [
    "I.NMRIntegrate(D1)"
   ]
  },
  {
   "cell_type": "markdown",
   "metadata": {},
   "source": [
    "## Interactive composite display\n",
    "Convenient to set-up your own figure"
   ]
  },
  {
   "cell_type": "code",
   "execution_count": null,
   "metadata": {
    "ExecuteTime": {
     "end_time": "2019-06-21T13:12:35.346861Z",
     "start_time": "2019-06-21T13:12:35.129074Z"
    }
   },
   "outputs": [],
   "source": [
    "I.Show1D(D1,title=FC.nmrname)"
   ]
  },
  {
   "cell_type": "markdown",
   "metadata": {},
   "source": [
    "## Save the data-set\n",
    "either as stand alone native SPIKE files, (there are other formats)"
   ]
  },
  {
   "cell_type": "code",
   "execution_count": null,
   "metadata": {},
   "outputs": [],
   "source": [
    "D1.save('example1.gs1')"
   ]
  },
  {
   "cell_type": "markdown",
   "metadata": {},
   "source": [
    "or as a `csv` text file, - in which case, it is probably better to remove the imaginary part, not useful there.\n",
    "\n",
    "The file contains some basic informations in addition to the spectral data"
   ]
  },
  {
   "cell_type": "code",
   "execution_count": null,
   "metadata": {},
   "outputs": [],
   "source": [
    "D1.copy().real().save_csv('example.csv')"
   ]
  },
  {
   "cell_type": "markdown",
   "metadata": {},
   "source": [
    "### Save the peak list to a csv file"
   ]
  },
  {
   "cell_type": "code",
   "execution_count": null,
   "metadata": {
    "ExecuteTime": {
     "end_time": "2019-06-21T13:14:27.575626Z",
     "start_time": "2019-06-21T13:14:27.501404Z"
    }
   },
   "outputs": [],
   "source": [
    "D1.pk2pandas().to_csv('peaklist.csv')"
   ]
  },
  {
   "cell_type": "markdown",
   "metadata": {},
   "source": [
    "### Save the integrals to a csv file"
   ]
  },
  {
   "cell_type": "code",
   "execution_count": null,
   "metadata": {
    "ExecuteTime": {
     "end_time": "2019-06-21T13:14:29.454675Z",
     "start_time": "2019-06-21T13:14:29.447579Z"
    }
   },
   "outputs": [],
   "source": [
    "D1.integrals.to_pandas().to_csv('integrals.csv')"
   ]
  },
  {
   "cell_type": "markdown",
   "metadata": {},
   "source": [
    "*Tools in this page is under intensive development - things are going to change rapidly.*"
   ]
  }
 ],
 "metadata": {
  "kernelspec": {
   "display_name": "Python 3",
   "language": "python",
   "name": "python3"
  },
  "language_info": {
   "codemirror_mode": {
    "name": "ipython",
    "version": 3
   },
   "file_extension": ".py",
   "mimetype": "text/x-python",
   "name": "python",
   "nbconvert_exporter": "python",
   "pygments_lexer": "ipython3",
   "version": "3.6.8"
  },
  "toc": {
   "base_numbering": 1,
   "nav_menu": {},
   "number_sections": true,
   "sideBar": true,
   "skip_h1_title": true,
   "title_cell": "Table of Contents",
   "title_sidebar": "Contents",
   "toc_cell": true,
   "toc_position": {},
   "toc_section_display": true,
   "toc_window_display": false
  },
  "varInspector": {
   "cols": {
    "lenName": 16,
    "lenType": 16,
    "lenVar": 40
   },
   "kernels_config": {
    "python": {
     "delete_cmd_postfix": "",
     "delete_cmd_prefix": "del ",
     "library": "var_list.py",
     "varRefreshCmd": "print(var_dic_list())"
    },
    "r": {
     "delete_cmd_postfix": ") ",
     "delete_cmd_prefix": "rm(",
     "library": "var_list.r",
     "varRefreshCmd": "cat(var_dic_list()) "
    }
   },
   "types_to_exclude": [
    "module",
    "function",
    "builtin_function_or_method",
    "instance",
    "_Feature"
   ],
   "window_display": false
  }
 },
 "nbformat": 4,
 "nbformat_minor": 2
}
