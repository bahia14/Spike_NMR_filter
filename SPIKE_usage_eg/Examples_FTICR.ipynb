{
 "cells": [
  {
   "cell_type": "markdown",
   "metadata": {},
   "source": [
    "# <a id=\"Few_examples_of_how_to_use_SPIKE\"> Few examples of how to use SPIKE</a>"
   ]
  },
  {
   "cell_type": "markdown",
   "metadata": {},
   "source": [
    "* simple import of native dataset.\n",
    "\n",
    "* simple FID\n",
    "\n",
    "* FFT with zerofilling\n",
    "\n",
    "* urQRd\n",
    "\n",
    "You have first to execute the first two cells, then you can execute independently any of the example cells.   \n",
    "We begin first with simple import then we show how to make more elaborated commands involving data processing algorithms such as  urQRd."
   ]
  },
  {
   "cell_type": "code",
   "execution_count": 1,
   "metadata": {
    "collapsed": false
   },
   "outputs": [
    {
     "name": "stdout",
     "output_type": "stream",
     "text": [
      "Using matplotlib backend: MacOSX\n"
     ]
    }
   ],
   "source": [
    "%matplotlib"
   ]
  },
  {
   "cell_type": "code",
   "execution_count": 2,
   "metadata": {
    "collapsed": false
   },
   "outputs": [
    {
     "name": "stdout",
     "output_type": "stream",
     "text": [
      "/Users/chiron/bitbuck/spike_units\n"
     ]
    }
   ],
   "source": [
    "cd ../.. "
   ]
  },
  {
   "cell_type": "code",
   "execution_count": 3,
   "metadata": {
    "collapsed": false
   },
   "outputs": [
    {
     "name": "stdout",
     "output_type": "stream",
     "text": [
      "\n",
      "    ========================\n",
      "          SPIKE\n",
      "    ========================\n",
      "    Version     : 0.6.4\n",
      "    Date        : 12-03-2015\n",
      "    ========================\n",
      "Importing plugin << bcorr >>\n",
      "Importing plugin << Bruker_NMR_FT >>\n",
      "Importing plugin << Bucketing >>\n",
      "Importing plugin << fastclean >>\n",
      "Importing plugin << Peaks >>\n",
      "Importing plugin << rem_ridge >>\n",
      "Importing plugin << sg >>\n",
      "Importing plugin << test >>\n",
      "Importing plugin << urQRd >>\n"
     ]
    }
   ],
   "source": [
    "from spike.File.Apex import Import_1D\n",
    "import numpy as np                  # pour faire des calculs\n",
    "import matplotlib.pyplot as plt     # pour afficher les données brutes\n",
    "from spike.FTICR import FTICRData"
   ]
  },
  {
   "cell_type": "markdown",
   "metadata": {},
   "source": [
    "##<a class=\"links\" id=\"Few_examples_of_how_to_use_SPIKE_Import_from_Apex\"> Import from Apex</a>"
   ]
  },
  {
   "cell_type": "markdown",
   "metadata": {},
   "source": [
    "Simple import from Apex format"
   ]
  },
  {
   "cell_type": "code",
   "execution_count": null,
   "metadata": {
    "collapsed": false
   },
   "outputs": [],
   "source": [
    "f = Import_1D(\"/Volumes/3ToBiak/MassSpec/FTICR_data/1D/APO/APOAI_H2OMetOHAF_MS_profile_000001.d\")\n",
    "f.report()"
   ]
  },
  {
   "cell_type": "markdown",
   "metadata": {},
   "source": [
    "## <a class=\"links\" id=\"Few_examples_of_how_to_use_SPIKE_Show_the_FID\"> Show the FID</a>"
   ]
  },
  {
   "cell_type": "code",
   "execution_count": null,
   "metadata": {
    "collapsed": false
   },
   "outputs": [],
   "source": [
    "f = Import_1D(\"/Volumes/3ToBiak/MassSpec/FTICR_data/1D/APO/APOAI_H2OMetOHAF_MS_profile_000001.d\")\n",
    "f.display(label = \"FID\")"
   ]
  },
  {
   "cell_type": "markdown",
   "metadata": {},
   "source": [
    "##<a class=\"links\" id=\"Few_examples_of_how_to_use_SPIKE_Show_the_half_truncated_FID_and_full_FID\"> Show the half truncated FID and full FID</a>"
   ]
  },
  {
   "cell_type": "code",
   "execution_count": null,
   "metadata": {
    "collapsed": false
   },
   "outputs": [],
   "source": [
    "f = Import_1D(\"/Volumes/3ToBiak/MassSpec/FTICR_data/1D/APO/APOAI_H2OMetOHAF_MS_profile_000001.d\")\n",
    "f.chsize(len(f.buffer)/2)\n",
    "ff = f.copy()\n",
    "ff.buffer = ff.buffer[:len(f.buffer)/2]/2\n",
    "f.display(label = \"FID\")\n",
    "f.display(label = \"FID cut\", new_fig = False)"
   ]
  },
  {
   "cell_type": "markdown",
   "metadata": {},
   "source": [
    "##<a class=\"links\" id=\"Few_examples_of_how_to_use_SPIKE_Doing_FFT_with_zerofilling\"> Doing FFT with zerofilling</a>"
   ]
  },
  {
   "cell_type": "markdown",
   "metadata": {},
   "source": [
    "Classical FFT with apodisation and zerofilling."
   ]
  },
  {
   "cell_type": "code",
   "execution_count": 4,
   "metadata": {
    "collapsed": false
   },
   "outputs": [
    {
     "name": "stdout",
     "output_type": "stream",
     "text": [
      "['/Volumes/3ToBiak/MassSpec/FTICR_data/1D/APO/APOAI_H2OMetOHAF_MS_profile_000001.d/Apex2_LC_autoexclusion_test2.m/apexAcquisition.method'] 1\n"
     ]
    },
    {
     "data": {
      "text/plain": [
       "Dim 1\n",
       "Axis F1 : FT-ICR axis at 161.290323 kHz,  524288 real points,  from mz = 1500.000   to m/z =  895.219  R max (M=400) = 1173379"
      ]
     },
     "execution_count": 4,
     "metadata": {},
     "output_type": "execute_result"
    }
   ],
   "source": [
    "f = Import_1D(\"/Volumes/3ToBiak/MassSpec/FTICR_data/1D/APO/APOAI_H2OMetOHAF_MS_profile_000001.d\")\n",
    "f.report()\n",
    "f.axis1.currentunit = 'm/z'\n",
    "f.apod_sin(maxi = 0.5).chsize(f.buffer.size*2).rfft().modulus().display(label = \"zerofill x2\", show = True)"
   ]
  },
  {
   "cell_type": "markdown",
   "metadata": {},
   "source": [
    "##<a class=\"links\" id=\"Few_examples_of_how_to_use_SPIKE_FFT_with_zerofilling,_processing_cutting_the_pipes.\"> FFT with zerofilling, processing cutting the pipes.</a>"
   ]
  },
  {
   "cell_type": "markdown",
   "metadata": {},
   "source": [
    "Here instead of writing a single long command with pipelines, the command is cut in many chunks.\n",
    "This can be used for performing intermediate operations not present in NPKv2."
   ]
  },
  {
   "cell_type": "code",
   "execution_count": null,
   "metadata": {
    "collapsed": false
   },
   "outputs": [],
   "source": [
    "f = Import_1D(\"DATA_test/angio_ms_000005.d\")\n",
    "f.currentunit = 'm/z'\n",
    "f.apod_sin(maxi = 0.5)\n",
    "f.chsize(f.buffer.size*2).rfft()\n",
    "f.modulus().display(label = \"zerofill x2\", show = True)"
   ]
  },
  {
   "cell_type": "markdown",
   "metadata": {},
   "source": [
    "##<a class=\"links\" id=\"Few_examples_of_how_to_use_SPIKE_Using_urQRd\"> Using urQRd</a>"
   ]
  },
  {
   "cell_type": "markdown",
   "metadata": {},
   "source": [
    "Example of how to use urQRd for denoising a spectrum. As a rule of thumb, the rank must be few times the number of expected frequencies."
   ]
  },
  {
   "cell_type": "code",
   "execution_count": null,
   "metadata": {
    "collapsed": false
   },
   "outputs": [],
   "source": [
    "f = Import_1D(\"DATA_test/angio_ms_000005.d\")\n",
    "f.currentunit = 'm/z'\n",
    "rank = 30\n",
    "f.urqrd(k = rank).rfft().modulus().display(label = \"urQRd, rank = {}\".format(rank), show = True)"
   ]
  },
  {
   "cell_type": "code",
   "execution_count": null,
   "metadata": {
    "collapsed": true
   },
   "outputs": [],
   "source": []
  }
 ],
 "metadata": {
  "kernelspec": {
   "display_name": "Python 2",
   "language": "python",
   "name": "python2"
  },
  "language_info": {
   "codemirror_mode": {
    "name": "ipython",
    "version": 2
   },
   "file_extension": ".py",
   "mimetype": "text/x-python",
   "name": "python",
   "nbconvert_exporter": "python",
   "pygments_lexer": "ipython2",
   "version": "2.7.10"
  }
 },
 "nbformat": 4,
 "nbformat_minor": 0
}
