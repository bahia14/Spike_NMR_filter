{
 "metadata": {
  "name": "",
  "signature": "sha256:7f6302f5f948f38b5efe64f4b9fc26188237f4e430ea782f56421de0363d98a5"
 },
 "nbformat": 3,
 "nbformat_minor": 0,
 "worksheets": [
  {
   "cells": [
    {
     "cell_type": "heading",
     "level": 1,
     "metadata": {},
     "source": [
      "Some examples on how to use SPIKE."
     ]
    },
    {
     "cell_type": "markdown",
     "metadata": {},
     "source": [
      "* simple import of native dataset.\n",
      "\n",
      "* simple FID handling, processing and display\n",
      "\n",
      "* FFT with zerofilling\n",
      "\n",
      "* urQRd : noise-reduction\n",
      "\n",
      "You have first to execute the first two cells, then you can execute independently any of the example cells. \n",
      "We begin first with simple import then we show how to make more elaborated commands involving data treatment algorithms such as urQRd."
     ]
    },
    {
     "cell_type": "code",
     "collapsed": false,
     "input": [
      "# load scientific environment\n",
      "%pylab\n",
      "import sys\n",
      "# put in sys.path.append() the adress of where you actually put the NPK_V2 program\n",
      "#sys.path.append(\"C:\\Users\\Lionel\\spike\\draft\")\n",
      "sys.path.append(\"/Users/mad/spike/draft\")\n",
      "\n",
      "import Orbitrap as O                 # loads the whole NPKV2 environment, tuned to Orbitrap\n",
      "from File.Thermo import Import_1D    # adds the Thermofisher importer\n"
     ],
     "language": "python",
     "metadata": {},
     "outputs": []
    },
    {
     "cell_type": "heading",
     "level": 2,
     "metadata": {},
     "source": [
      "Import Orbitrap DATA"
     ]
    },
    {
     "cell_type": "markdown",
     "metadata": {},
     "source": [
      "You enter the filename, then the command `Import_1D()` loads it into memory\n",
      "\n",
      "the data is put into a python variable, that you can handle freely"
     ]
    },
    {
     "cell_type": "code",
     "collapsed": false,
     "input": [
      "#put your filename here\n",
      "filename = \"C:/Users/Egor/spike/DATA_test/ubiquitin_5_scan_res_30000_1.dat\"\n",
      "o = Import_1D(filename)\n",
      "print o"
     ],
     "language": "python",
     "metadata": {},
     "outputs": []
    },
    {
     "cell_type": "heading",
     "level": 2,
     "metadata": {},
     "source": [
      " Show FID"
     ]
    },
    {
     "cell_type": "markdown",
     "metadata": {},
     "source": [
      "Then you can apply action to the data by the appending the method name to the variable.\n",
      "The methods may have parameters\n",
      "\n",
      "For instance displaying,\n",
      "You can zoom in, and move around with the graphical tools\n",
      "You can also store picture files (png, pdf, etc..)"
     ]
    },
    {
     "cell_type": "code",
     "collapsed": false,
     "input": [
      "o.display(label = \"FID\")"
     ],
     "language": "python",
     "metadata": {},
     "outputs": []
    },
    {
     "cell_type": "heading",
     "level": 2,
     "metadata": {},
     "source": [
      "FFT with zerofilling"
     ]
    },
    {
     "cell_type": "markdown",
     "metadata": {},
     "source": [
      "methods are applied in sequence on the data, modifying its content, this is call a pipe.\n",
      "\n",
      "`apod_sin(maxi = 0.5)` corresponds to a sine-bell apodisation, with its maxium midway in the FID. (aka Hammng window)"
     ]
    },
    {
     "cell_type": "code",
     "collapsed": false,
     "input": [
      "print o\n",
      "o.apod_sin(maxi = 0.5).chsize(o.buffer.size*2).rfft().modulus()\n",
      "o.units = 'm/z'\n",
      "o.display(label = \"zerofill x2\")"
     ],
     "language": "python",
     "metadata": {},
     "outputs": []
    },
    {
     "cell_type": "heading",
     "level": 3,
     "metadata": {},
     "source": [
      "FFT with zerofilling, processing cutting the pipes."
     ]
    },
    {
     "cell_type": "markdown",
     "metadata": {},
     "source": [
      "this is strictly equivalent"
     ]
    },
    {
     "cell_type": "code",
     "collapsed": false,
     "input": [
      "# here, we have to reload it again !\n",
      "o = Import_1D(filename)\n",
      "o.units = 'm/z'\n",
      "o.apod_sin(maxi = 0.5)\n",
      "o.chsize(o.buffer.size*4)\n",
      "o.rfft()\n",
      "o.modulus().display(label = \"zerofill x4\")"
     ],
     "language": "python",
     "metadata": {},
     "outputs": []
    },
    {
     "cell_type": "heading",
     "level": 2,
     "metadata": {},
     "source": [
      "urQRd"
     ]
    },
    {
     "cell_type": "markdown",
     "metadata": {},
     "source": [
      "is a preprocessing techniaue, used for reducing the noise\n",
      "\n",
      "The parameter $k$ given to urQRd is related to the number of expected lines in the spectrum. \n",
      "It should be chosen 2 to 3 times larger than this expected number.\n",
      "\n",
      "Be carefull than the processing time **and** the memory footprint are both proportionnal to this value."
     ]
    },
    {
     "cell_type": "code",
     "collapsed": false,
     "input": [
      "o = Import_1D(\"../DATA_test/ubiquitin_5_scan_res_30000_1.dat\")\n",
      "o.report()\n",
      "o.units = 'm/z'\n",
      "o.urqrd(k = 300).rfft().modulus().display(label = \"urQRd, rank = 300\")"
     ],
     "language": "python",
     "metadata": {},
     "outputs": []
    },
    {
     "cell_type": "heading",
     "level": 2,
     "metadata": {},
     "source": [
      "Additional tricks"
     ]
    },
    {
     "cell_type": "heading",
     "level": 3,
     "metadata": {},
     "source": [
      "ipython short cuts"
     ]
    },
    {
     "cell_type": "markdown",
     "metadata": {},
     "source": [
      "there are *many* shortcuts and tricks in ipython, read the doc !\n",
      "\n",
      "a couple of them are really helpfull for MS processing\n",
      "* you can execute a cell by hitting `shift-return`\n",
      "* you can get the documentation of any function by adding a ? at the end of its name, eg `o.rfft?`\n",
      "* you can get all possible values by hitting the `<TAB>` key. Try for instance typing `o. <TAB>`"
     ]
    },
    {
     "cell_type": "heading",
     "level": 3,
     "metadata": {},
     "source": [
      "SPIKE arcanes"
     ]
    },
    {
     "cell_type": "markdown",
     "metadata": {},
     "source": [
      "If needed, you can directly manipulate the numeric data held into the SPIKE dataset, \n",
      "the `.get_buffer()` method returns the underlying `numpy` array.\n",
      "The `.set_buffer()` method sets it, data can be real or complex.\n",
      "Do `.adapt_size()` afterwards if you changed the number of points."
     ]
    },
    {
     "cell_type": "code",
     "collapsed": false,
     "input": [
      "o = Import_1D(filename)\n",
      "oo = o.copy()\n",
      "oo.chsize(len(o.buffer)/4)          # shorten the FID\n",
      "oo.set_buffer( oo.get_buffer()+800 )   # this adds a value to the data, just for display purpose\n",
      "oo.adapt_size()\n",
      "o.display(label = \"FID\")\n",
      "oo.display(label = \"shorten FID\", new_fig = False)"
     ],
     "language": "python",
     "metadata": {},
     "outputs": []
    },
    {
     "cell_type": "code",
     "collapsed": false,
     "input": [
      "o.rfft?"
     ],
     "language": "python",
     "metadata": {},
     "outputs": []
    },
    {
     "cell_type": "markdown",
     "metadata": {},
     "source": [
      "It is also possible to use this sheet as a simple calculator, can be handy some time, for instance for checking charge state."
     ]
    },
    {
     "cell_type": "code",
     "collapsed": false,
     "input": [
      "1/(714.566-714.649)"
     ],
     "language": "python",
     "metadata": {},
     "outputs": []
    },
    {
     "cell_type": "code",
     "collapsed": false,
     "input": [],
     "language": "python",
     "metadata": {},
     "outputs": []
    }
   ],
   "metadata": {}
  }
 ]
}